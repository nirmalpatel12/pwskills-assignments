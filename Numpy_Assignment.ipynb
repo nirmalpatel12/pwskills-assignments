{
 "cells": [
  {
   "cell_type": "code",
   "execution_count": 15,
   "id": "60eae5d2-5692-45e8-95e6-17b2b101b512",
   "metadata": {},
   "outputs": [],
   "source": [
    "import numpy as np\n",
    "list_ = ['1','2','3','4','5']\n",
    "array_list = np.array(object = list_)"
   ]
  },
  {
   "cell_type": "code",
   "execution_count": 16,
   "id": "e3120ad7-a4f6-4b42-bab8-0b3c5335fca5",
   "metadata": {},
   "outputs": [],
   "source": [
    "#Q1. Is there any difference in the data type of variables list_ and array_list? If there is then write a code\n",
    "#to print the data types of both the variables."
   ]
  },
  {
   "cell_type": "code",
   "execution_count": 17,
   "id": "23f6b1c1-5363-480e-ab52-cd9cf1c7d4f0",
   "metadata": {},
   "outputs": [],
   "source": [
    "#yes there is a difference"
   ]
  },
  {
   "cell_type": "code",
   "execution_count": 18,
   "id": "db4601c0-b7fe-4a2d-8aa4-71950aadeb80",
   "metadata": {},
   "outputs": [
    {
     "name": "stdout",
     "output_type": "stream",
     "text": [
      "data type of list_ is-> <class 'str'>\n"
     ]
    }
   ],
   "source": [
    "print('data type of list_ is->',type(list_[1]))"
   ]
  },
  {
   "cell_type": "code",
   "execution_count": 25,
   "id": "719636aa-e608-4058-89bd-ae8ad42eb5bb",
   "metadata": {},
   "outputs": [
    {
     "name": "stdout",
     "output_type": "stream",
     "text": [
      "data type of array_list is-> <U1\n"
     ]
    }
   ],
   "source": [
    "print('data type of array_list is->',array_list[0].dtype)"
   ]
  },
  {
   "cell_type": "code",
   "execution_count": 20,
   "id": "f4355e21-8dee-4311-a0d6-00635b468261",
   "metadata": {},
   "outputs": [],
   "source": [
    "#Q2. Write a code to print the data type of each and every element of both the variables list_ and\n",
    "#arra_list."
   ]
  },
  {
   "cell_type": "code",
   "execution_count": 22,
   "id": "9dfce822-a540-4f60-8b9e-8c7644d91cc8",
   "metadata": {},
   "outputs": [
    {
     "name": "stdout",
     "output_type": "stream",
     "text": [
      "element-1 data type is->  <class 'str'>\n",
      "element-2 data type is->  <class 'str'>\n",
      "element-3 data type is->  <class 'str'>\n",
      "element-4 data type is->  <class 'str'>\n",
      "element-5 data type is->  <class 'str'>\n"
     ]
    }
   ],
   "source": [
    "for i in list_:\n",
    "    print(f'element-{i} data type is-> ',type(i))"
   ]
  },
  {
   "cell_type": "code",
   "execution_count": 23,
   "id": "46a31384-ec14-4a54-9210-cf0b1186a37a",
   "metadata": {},
   "outputs": [
    {
     "name": "stdout",
     "output_type": "stream",
     "text": [
      "element-1 data type is->  <class 'numpy.str_'>\n",
      "element-2 data type is->  <class 'numpy.str_'>\n",
      "element-3 data type is->  <class 'numpy.str_'>\n",
      "element-4 data type is->  <class 'numpy.str_'>\n",
      "element-5 data type is->  <class 'numpy.str_'>\n"
     ]
    }
   ],
   "source": [
    "for i in array_list:\n",
    "      print(f'element-{i} data type is-> ',type(i))"
   ]
  },
  {
   "cell_type": "code",
   "execution_count": 26,
   "id": "027251d4-fd95-4f5c-8b33-93af0dd06048",
   "metadata": {},
   "outputs": [],
   "source": [
    "#Q3. Considering the following changes in the variable, array_list:\n",
    "#array_list = np.array(object = list_, dtype = int)\n",
    "#Will there be any difference in the data type of the elements present in both the variables, list_ and\n",
    "#arra_list? If so then print the data types of each and every element present in both the variables, list_\n",
    "#and arra_list."
   ]
  },
  {
   "cell_type": "code",
   "execution_count": 27,
   "id": "1db36699-36c1-455f-a55f-33b8ab90384f",
   "metadata": {},
   "outputs": [],
   "source": [
    "array_list = np.array(object = list_, dtype = int)"
   ]
  },
  {
   "cell_type": "code",
   "execution_count": 28,
   "id": "992586cb-e239-4c47-bf22-aba6beaecf84",
   "metadata": {},
   "outputs": [
    {
     "data": {
      "text/plain": [
       "array([1, 2, 3, 4, 5])"
      ]
     },
     "execution_count": 28,
     "metadata": {},
     "output_type": "execute_result"
    }
   ],
   "source": [
    "array_list"
   ]
  },
  {
   "cell_type": "code",
   "execution_count": 29,
   "id": "a66cd228-f6d9-4982-858c-24dc5b8172fa",
   "metadata": {},
   "outputs": [
    {
     "name": "stdout",
     "output_type": "stream",
     "text": [
      "data type of list_ is-> <class 'str'>\n"
     ]
    }
   ],
   "source": [
    "print('data type of list_ is->',type(list_[1]))"
   ]
  },
  {
   "cell_type": "code",
   "execution_count": 31,
   "id": "c1295b6e-e242-49d6-825b-ceb20ad4d71b",
   "metadata": {},
   "outputs": [
    {
     "name": "stdout",
     "output_type": "stream",
     "text": [
      "data type of array_list is-> int64\n"
     ]
    }
   ],
   "source": [
    "print('data type of array_list is->',array_list.dtype)"
   ]
  },
  {
   "cell_type": "code",
   "execution_count": 32,
   "id": "23ccd33c-3015-4207-bf1f-1d9236ebf03f",
   "metadata": {},
   "outputs": [],
   "source": [
    "#Q4. Write a code to find the following characteristics of variable, num_array:\n",
    "#(i) shape\n",
    "#(ii) size"
   ]
  },
  {
   "cell_type": "code",
   "execution_count": 33,
   "id": "88a47a61-ea22-4e98-861c-701b7cc6ed87",
   "metadata": {},
   "outputs": [],
   "source": [
    "import numpy as np\n",
    "num_list = [ [ 1 , 2 , 3 ] , [ 4 , 5 , 6 ] ]\n",
    "num_array = np.array(object = num_list)"
   ]
  },
  {
   "cell_type": "code",
   "execution_count": 35,
   "id": "8a91ab52-d6ae-4891-96a9-e16a80f85ebd",
   "metadata": {},
   "outputs": [
    {
     "name": "stdout",
     "output_type": "stream",
     "text": [
      "shape of the num_array is-> (2, 3)\n"
     ]
    }
   ],
   "source": [
    "print('shape of the num_array is->',num_array.shape)"
   ]
  },
  {
   "cell_type": "code",
   "execution_count": 36,
   "id": "7230e9c8-5128-4004-82c7-ce3187dd2794",
   "metadata": {},
   "outputs": [
    {
     "name": "stdout",
     "output_type": "stream",
     "text": [
      "size of the num_array is-> 6\n"
     ]
    }
   ],
   "source": [
    "print('size of the num_array is->',num_array.size)"
   ]
  },
  {
   "cell_type": "code",
   "execution_count": 37,
   "id": "1140a3e2-cc00-4def-b509-fa5fdf60bc5a",
   "metadata": {},
   "outputs": [],
   "source": [
    "#Q5. Write a code to create numpy array of 3*3 matrix containing zeros only, using a numpy array\n",
    "#creation function.\n",
    "#[Hint: The size of the array will be 9 and the shape will be (3,3).]"
   ]
  },
  {
   "cell_type": "code",
   "execution_count": 46,
   "id": "0bd49a17-d82d-49c8-9234-ca3e8b4e7d5e",
   "metadata": {},
   "outputs": [],
   "source": [
    "np1=np.zeros((3,3))"
   ]
  },
  {
   "cell_type": "code",
   "execution_count": 47,
   "id": "aa4486f6-4aa2-4c93-bfa6-7960b789ffb6",
   "metadata": {},
   "outputs": [
    {
     "data": {
      "text/plain": [
       "array([[0., 0., 0.],\n",
       "       [0., 0., 0.],\n",
       "       [0., 0., 0.]])"
      ]
     },
     "execution_count": 47,
     "metadata": {},
     "output_type": "execute_result"
    }
   ],
   "source": [
    "np1"
   ]
  },
  {
   "cell_type": "code",
   "execution_count": 49,
   "id": "e2e168f5-fc55-452d-83fa-52d563cd2894",
   "metadata": {},
   "outputs": [],
   "source": [
    "#Q6. Create an identity matrix of shape (5,5) using numpy functions?\n",
    "#[Hint: An identity matrix is a matrix containing 1 diagonally and other elements will be 0.]"
   ]
  },
  {
   "cell_type": "code",
   "execution_count": 50,
   "id": "f9095168-7178-4d59-b963-10cd44f5d4fb",
   "metadata": {},
   "outputs": [],
   "source": [
    "np2=np.eye(5)"
   ]
  },
  {
   "cell_type": "code",
   "execution_count": 51,
   "id": "17f407f1-a900-4dd9-98a7-68b345822d7e",
   "metadata": {},
   "outputs": [
    {
     "data": {
      "text/plain": [
       "array([[1., 0., 0., 0., 0.],\n",
       "       [0., 1., 0., 0., 0.],\n",
       "       [0., 0., 1., 0., 0.],\n",
       "       [0., 0., 0., 1., 0.],\n",
       "       [0., 0., 0., 0., 1.]])"
      ]
     },
     "execution_count": 51,
     "metadata": {},
     "output_type": "execute_result"
    }
   ],
   "source": [
    "np2"
   ]
  },
  {
   "cell_type": "code",
   "execution_count": null,
   "id": "cef1723c-1a8b-4c2d-9833-bf15b328673e",
   "metadata": {},
   "outputs": [],
   "source": []
  }
 ],
 "metadata": {
  "kernelspec": {
   "display_name": "Python 3 (ipykernel)",
   "language": "python",
   "name": "python3"
  },
  "language_info": {
   "codemirror_mode": {
    "name": "ipython",
    "version": 3
   },
   "file_extension": ".py",
   "mimetype": "text/x-python",
   "name": "python",
   "nbconvert_exporter": "python",
   "pygments_lexer": "ipython3",
   "version": "3.10.8"
  }
 },
 "nbformat": 4,
 "nbformat_minor": 5
}
