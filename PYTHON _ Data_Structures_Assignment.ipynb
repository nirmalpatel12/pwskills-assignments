{
 "cells": [
  {
   "cell_type": "code",
   "execution_count": 1,
   "id": "e6fed924-c4ce-4aa6-a6ef-98005f888713",
   "metadata": {},
   "outputs": [],
   "source": [
    "#Q1. How do you comment code in Python? What are the different types of comments?"
   ]
  },
  {
   "cell_type": "code",
   "execution_count": 2,
   "id": "dbc6e59f-a0a1-43c5-8e74-9f369ca9f937",
   "metadata": {},
   "outputs": [],
   "source": [
    "#comment code is used to descibe about code line and it is not executed by python\n",
    "#there are two types of comments\n",
    "#1. single line comment\n",
    "#2. multi line comment"
   ]
  },
  {
   "cell_type": "code",
   "execution_count": 5,
   "id": "59fc63ff-eefa-4f4b-a059-aad0d845964c",
   "metadata": {},
   "outputs": [
    {
     "data": {
      "text/plain": [
       "'\\n multi\\n      line\\n       comment\\n'"
      ]
     },
     "execution_count": 5,
     "metadata": {},
     "output_type": "execute_result"
    }
   ],
   "source": [
    "#single line comment\n",
    "\"\"\"\n",
    " multi\n",
    "      line\n",
    "       comment\n",
    "\"\"\""
   ]
  },
  {
   "cell_type": "code",
   "execution_count": 6,
   "id": "69c45149-2e33-4898-9955-e601ea498493",
   "metadata": {},
   "outputs": [],
   "source": [
    "#Q2. What are variables in Python? How do you declare and assign values to variables?"
   ]
  },
  {
   "cell_type": "code",
   "execution_count": 7,
   "id": "7c8b0287-c1d7-4253-b784-c837e808193d",
   "metadata": {},
   "outputs": [],
   "source": [
    "#variable is a store that holds data"
   ]
  },
  {
   "cell_type": "code",
   "execution_count": 9,
   "id": "ab2de34a-ad9d-46be-a289-9d60d42ae348",
   "metadata": {},
   "outputs": [],
   "source": [
    "variable_declare=10\n",
    "variable2=20.2\n",
    "VARIABLE_SD_3=33+1J"
   ]
  },
  {
   "cell_type": "code",
   "execution_count": 10,
   "id": "65aca5f0-2759-4dc4-b12f-8839aa8e56c2",
   "metadata": {},
   "outputs": [],
   "source": [
    "#Q3. How do you convert one data type to another in Python?"
   ]
  },
  {
   "cell_type": "code",
   "execution_count": 11,
   "id": "be4b19a7-0791-4a24-b458-45160ae9a655",
   "metadata": {},
   "outputs": [],
   "source": [
    "#it is known as type conversion"
   ]
  },
  {
   "cell_type": "code",
   "execution_count": 12,
   "id": "2808e109-760c-4227-83f2-e41c6ab04826",
   "metadata": {},
   "outputs": [],
   "source": [
    "int1=10\n",
    "float1=2.3233\n",
    "str1='pwskills'"
   ]
  },
  {
   "cell_type": "code",
   "execution_count": 13,
   "id": "979bc2ea-f281-4a23-a497-5fc3f5d8ba23",
   "metadata": {},
   "outputs": [
    {
     "name": "stdout",
     "output_type": "stream",
     "text": [
      "10.0\n"
     ]
    }
   ],
   "source": [
    "int_to_float=float(int1)\n",
    "print(int_to_float)"
   ]
  },
  {
   "cell_type": "code",
   "execution_count": 14,
   "id": "4771bd4b-b8b9-4bee-a0a9-9e1dab4ff990",
   "metadata": {},
   "outputs": [
    {
     "name": "stdout",
     "output_type": "stream",
     "text": [
      "2\n"
     ]
    }
   ],
   "source": [
    "float_to_int=int(float1)\n",
    "print(float_to_int)"
   ]
  },
  {
   "cell_type": "code",
   "execution_count": 15,
   "id": "0db7f0ef-7a33-43e3-aaab-f81e8fc0566a",
   "metadata": {},
   "outputs": [],
   "source": [
    "#Q4. How do you write and execute a Python script from the command line?"
   ]
  },
  {
   "cell_type": "code",
   "execution_count": 16,
   "id": "d95f9525-4c6a-4128-b4ae-c6f7d629ed27",
   "metadata": {},
   "outputs": [],
   "source": [
    "#i write a program and save that file as file_name.py\n",
    "#open the command prompt\n",
    "#give directory where file is stored\n",
    "#write this line-> python file_name.py"
   ]
  },
  {
   "cell_type": "code",
   "execution_count": 17,
   "id": "1fd53fb7-adcf-4705-96e8-d590d3008c15",
   "metadata": {},
   "outputs": [],
   "source": [
    "#Q5. Given a list my_list = [1, 2, 3, 4, 5], write the code to slice the list and obtain the sub-list [2, 3]."
   ]
  },
  {
   "cell_type": "code",
   "execution_count": 19,
   "id": "3d731236-5c75-476b-be83-53708242e4bc",
   "metadata": {},
   "outputs": [
    {
     "data": {
      "text/plain": [
       "[2, 3]"
      ]
     },
     "execution_count": 19,
     "metadata": {},
     "output_type": "execute_result"
    }
   ],
   "source": [
    "my_list=[1,2,3,4,5]\n",
    "my_list[1:3]"
   ]
  },
  {
   "cell_type": "code",
   "execution_count": 20,
   "id": "40a34da0-90ea-4cfe-9da5-dc4227672d5a",
   "metadata": {},
   "outputs": [],
   "source": [
    "#Q6. What is a complex number in mathematics, and how is it represented in Python?"
   ]
  },
  {
   "cell_type": "code",
   "execution_count": 21,
   "id": "e1adf3b6-ea36-4e9d-8631-a29c788695cb",
   "metadata": {},
   "outputs": [],
   "source": [
    "#In maths,complex number is a combination of real number and imaginary number."
   ]
  },
  {
   "cell_type": "code",
   "execution_count": 25,
   "id": "64e7a6a6-71f7-4a64-8220-f098b4f9887e",
   "metadata": {},
   "outputs": [],
   "source": [
    "complex_number=2+5j\n",
    "complex1=8+9j\n",
    "com=complex(7,10)"
   ]
  },
  {
   "cell_type": "code",
   "execution_count": 26,
   "id": "a1119071-1499-4730-ac1b-32313c7424e3",
   "metadata": {},
   "outputs": [
    {
     "name": "stdout",
     "output_type": "stream",
     "text": [
      "(2+5j)\n",
      "(8+9j)\n",
      "(7+10j)\n"
     ]
    }
   ],
   "source": [
    "print(complex_number)\n",
    "print(complex1)\n",
    "print(com)"
   ]
  },
  {
   "cell_type": "code",
   "execution_count": 27,
   "id": "a1b403c0-d945-4cf0-976f-4dce2fa36b12",
   "metadata": {},
   "outputs": [],
   "source": [
    "#Q7. What is the correct way to declare a variable named age and assign the value 25 to it?"
   ]
  },
  {
   "cell_type": "code",
   "execution_count": 28,
   "id": "9a63de11-99bc-4cc5-9610-edd21c583d82",
   "metadata": {},
   "outputs": [],
   "source": [
    "age=25"
   ]
  },
  {
   "cell_type": "code",
   "execution_count": 29,
   "id": "72d5cbe6-42ff-4ff2-87e1-83a98c715e8d",
   "metadata": {},
   "outputs": [],
   "source": [
    "#Q8. Declare a variable named price and assign the value 9.99 to it. What data type does this variable\n",
    "#belong to?"
   ]
  },
  {
   "cell_type": "code",
   "execution_count": 30,
   "id": "67520695-baf3-4b93-89ff-87dfe834853f",
   "metadata": {},
   "outputs": [
    {
     "data": {
      "text/plain": [
       "float"
      ]
     },
     "execution_count": 30,
     "metadata": {},
     "output_type": "execute_result"
    }
   ],
   "source": [
    "price=9.99\n",
    "type(price)"
   ]
  },
  {
   "cell_type": "code",
   "execution_count": 31,
   "id": "99780a52-6638-4021-ba53-abb0c39e4978",
   "metadata": {},
   "outputs": [],
   "source": [
    "#Q9. Create a variable named name and assign your full name to it as a string. How would you print the\n",
    "#value of this variable?"
   ]
  },
  {
   "cell_type": "code",
   "execution_count": 32,
   "id": "3c9f935d-4878-4352-9f02-3e29b35330c0",
   "metadata": {},
   "outputs": [
    {
     "name": "stdout",
     "output_type": "stream",
     "text": [
      "Patel Nirmalkumar Ketanbhai\n"
     ]
    }
   ],
   "source": [
    "name='Patel Nirmalkumar Ketanbhai'\n",
    "print(name)"
   ]
  },
  {
   "cell_type": "code",
   "execution_count": 33,
   "id": "2be9205b-2eaf-4e60-83cd-9b224882243d",
   "metadata": {},
   "outputs": [],
   "source": [
    "#Q10. Given the string \"Hello, World!\", extract the substring \"World\"."
   ]
  },
  {
   "cell_type": "code",
   "execution_count": 35,
   "id": "3ab1bbf3-4041-4953-942d-4d5f239cee6a",
   "metadata": {
    "tags": []
   },
   "outputs": [
    {
     "data": {
      "text/plain": [
       "'World'"
      ]
     },
     "execution_count": 35,
     "metadata": {},
     "output_type": "execute_result"
    }
   ],
   "source": [
    "str1='Hello, World!'\n",
    "str1[7:12:1]"
   ]
  },
  {
   "cell_type": "code",
   "execution_count": 36,
   "id": "d2fc6020-34d2-4506-a161-8506ef062e33",
   "metadata": {},
   "outputs": [],
   "source": [
    "#Q11. Create a variable named \"is_student\" and assign it a boolean value indicating whether you are\n",
    "#currently a student or not."
   ]
  },
  {
   "cell_type": "code",
   "execution_count": 37,
   "id": "605cf77d-285d-46f7-9ecc-dc910993762b",
   "metadata": {},
   "outputs": [
    {
     "name": "stdout",
     "output_type": "stream",
     "text": [
      "I am a student\n"
     ]
    }
   ],
   "source": [
    "is_student=True\n",
    "if is_student==True:\n",
    "    print('I am a student')\n",
    "else:\n",
    "    print('I am not a student')"
   ]
  },
  {
   "cell_type": "code",
   "execution_count": null,
   "id": "b8afdcfc-d5a7-4851-9329-604fe9f5ca8a",
   "metadata": {},
   "outputs": [],
   "source": []
  }
 ],
 "metadata": {
  "kernelspec": {
   "display_name": "Python 3 (ipykernel)",
   "language": "python",
   "name": "python3"
  },
  "language_info": {
   "codemirror_mode": {
    "name": "ipython",
    "version": 3
   },
   "file_extension": ".py",
   "mimetype": "text/x-python",
   "name": "python",
   "nbconvert_exporter": "python",
   "pygments_lexer": "ipython3",
   "version": "3.10.8"
  }
 },
 "nbformat": 4,
 "nbformat_minor": 5
}
