{
 "cells": [
  {
   "cell_type": "code",
   "execution_count": 1,
   "id": "6b6761ac-fc27-411b-9a42-42d6041812c1",
   "metadata": {},
   "outputs": [],
   "source": [
    "#Q1.what is exception in python? write the difference between exceptions and sntax errors."
   ]
  },
  {
   "cell_type": "code",
   "execution_count": 2,
   "id": "85b745ff-7fb5-4029-80b2-f2b09dacffaa",
   "metadata": {},
   "outputs": [],
   "source": [
    "#exception-It is an abnormal event that disrupts the normal flow of a program's execution."
   ]
  },
  {
   "cell_type": "code",
   "execution_count": 3,
   "id": "e04fd26c-e9d1-442f-9de6-5d53d9a3f590",
   "metadata": {},
   "outputs": [],
   "source": [
    "#difference-exceptions are errors that occur during the execution of a program, and they can be handled gracefully. \n",
    "#          Syntax errors are mistakes in the code structure that prevent the interpreter from understanding or executing the code. \n"
   ]
  },
  {
   "cell_type": "code",
   "execution_count": 4,
   "id": "ae39eb30-a25b-4986-8cc0-3c981ec31198",
   "metadata": {},
   "outputs": [
    {
     "name": "stdout",
     "output_type": "stream",
     "text": [
      "Error: division by zero\n"
     ]
    }
   ],
   "source": [
    "#exception example\n",
    "try:\n",
    "    result = 10 / 0  # Division by zero exception\n",
    "except ZeroDivisionError as e:\n",
    "    print(f\"Error: {e}\")"
   ]
  },
  {
   "cell_type": "code",
   "execution_count": 6,
   "id": "ed209c53-a8b6-43e1-93bc-08b6e5f34cc2",
   "metadata": {},
   "outputs": [
    {
     "ename": "SyntaxError",
     "evalue": "incomplete input (3048457722.py, line 2)",
     "output_type": "error",
     "traceback": [
      "\u001b[0;36m  Cell \u001b[0;32mIn[6], line 2\u001b[0;36m\u001b[0m\n\u001b[0;31m    print('hello'\u001b[0m\n\u001b[0m                 ^\u001b[0m\n\u001b[0;31mSyntaxError\u001b[0m\u001b[0;31m:\u001b[0m incomplete input\n"
     ]
    }
   ],
   "source": [
    "#syntx error\n",
    "print('hello'"
   ]
  },
  {
   "cell_type": "code",
   "execution_count": 7,
   "id": "0ad81a50-e70c-4fff-8fbe-7d27db52f449",
   "metadata": {},
   "outputs": [],
   "source": [
    "#Q2.what happens if exception is not handled? explain with example."
   ]
  },
  {
   "cell_type": "code",
   "execution_count": 8,
   "id": "25908165-155f-4278-bebd-c78eed1a3a08",
   "metadata": {},
   "outputs": [],
   "source": [
    "#When an unhandled exception occurs, it typically prints an error message along with a traceback to the console, indicating where the exception occurred."
   ]
  },
  {
   "cell_type": "code",
   "execution_count": 9,
   "id": "66fe8a18-97f2-4d87-a4d0-2fd014346781",
   "metadata": {},
   "outputs": [
    {
     "ename": "ZeroDivisionError",
     "evalue": "division by zero",
     "output_type": "error",
     "traceback": [
      "\u001b[0;31m---------------------------------------------------------------------------\u001b[0m",
      "\u001b[0;31mZeroDivisionError\u001b[0m                         Traceback (most recent call last)",
      "Cell \u001b[0;32mIn[9], line 7\u001b[0m\n\u001b[1;32m      3\u001b[0m     \u001b[38;5;28;01mreturn\u001b[39;00m result\n\u001b[1;32m      5\u001b[0m \u001b[38;5;28;01mtry\u001b[39;00m:\n\u001b[1;32m      6\u001b[0m     \u001b[38;5;66;03m# This will raise a ZeroDivisionError\u001b[39;00m\n\u001b[0;32m----> 7\u001b[0m     result \u001b[38;5;241m=\u001b[39m \u001b[43mdivide_numbers\u001b[49m\u001b[43m(\u001b[49m\u001b[38;5;241;43m10\u001b[39;49m\u001b[43m,\u001b[49m\u001b[43m \u001b[49m\u001b[38;5;241;43m0\u001b[39;49m\u001b[43m)\u001b[49m\n\u001b[1;32m      8\u001b[0m \u001b[38;5;28;01mexcept\u001b[39;00m \u001b[38;5;167;01mValueError\u001b[39;00m \u001b[38;5;28;01mas\u001b[39;00m e:\n\u001b[1;32m      9\u001b[0m     \u001b[38;5;28mprint\u001b[39m(\u001b[38;5;124mf\u001b[39m\u001b[38;5;124m\"\u001b[39m\u001b[38;5;124mCaught an exception: \u001b[39m\u001b[38;5;132;01m{\u001b[39;00me\u001b[38;5;132;01m}\u001b[39;00m\u001b[38;5;124m\"\u001b[39m)\n",
      "Cell \u001b[0;32mIn[9], line 2\u001b[0m, in \u001b[0;36mdivide_numbers\u001b[0;34m(x, y)\u001b[0m\n\u001b[1;32m      1\u001b[0m \u001b[38;5;28;01mdef\u001b[39;00m \u001b[38;5;21mdivide_numbers\u001b[39m(x, y):\n\u001b[0;32m----> 2\u001b[0m     result \u001b[38;5;241m=\u001b[39m \u001b[43mx\u001b[49m\u001b[43m \u001b[49m\u001b[38;5;241;43m/\u001b[39;49m\u001b[43m \u001b[49m\u001b[43my\u001b[49m\n\u001b[1;32m      3\u001b[0m     \u001b[38;5;28;01mreturn\u001b[39;00m result\n",
      "\u001b[0;31mZeroDivisionError\u001b[0m: division by zero"
     ]
    }
   ],
   "source": [
    "def divide_numbers(x, y):\n",
    "    result = x / y\n",
    "    return result\n",
    "\n",
    "try:\n",
    "    # This will raise a ZeroDivisionError\n",
    "    result = divide_numbers(10, 0)\n",
    "except ValueError as e:\n",
    "    print(f\"Caught an exception: {e}\")"
   ]
  },
  {
   "cell_type": "code",
   "execution_count": 10,
   "id": "7a253f95-df5b-455a-9834-95df0b314b49",
   "metadata": {},
   "outputs": [],
   "source": [
    "#Q3.which pythin statements are used tocatch and handle exceptions? Explain  with a example."
   ]
  },
  {
   "cell_type": "code",
   "execution_count": 11,
   "id": "5cf6e2e5-faea-4400-b89c-1642f5a4632b",
   "metadata": {},
   "outputs": [],
   "source": [
    "#try-This block contains the code that might raise an exception."
   ]
  },
  {
   "cell_type": "code",
   "execution_count": 12,
   "id": "42cacfa9-67b2-44c8-83c5-740ea72b581c",
   "metadata": {},
   "outputs": [],
   "source": [
    "#except-You can specify the type of exception to catch or use a generic except block to catch any exception."
   ]
  },
  {
   "cell_type": "code",
   "execution_count": 13,
   "id": "ae9a85f3-b3ed-4d58-a450-44ee47aa4026",
   "metadata": {},
   "outputs": [],
   "source": [
    "#else-This block is executed if no exceptions are raised in the try block."
   ]
  },
  {
   "cell_type": "code",
   "execution_count": 14,
   "id": "f2e4bc11-6d37-41b3-9dcc-1cfddfe3ad00",
   "metadata": {},
   "outputs": [],
   "source": [
    "#finally-This block is always executed, regardless of whether an exception occurred or not. It is often used for cleanup operations."
   ]
  },
  {
   "cell_type": "code",
   "execution_count": 18,
   "id": "7cfac69e-bedc-476d-9d4f-bc9b4c6f8e4a",
   "metadata": {},
   "outputs": [
    {
     "name": "stdout",
     "output_type": "stream",
     "text": [
      "The result is: 5.0\n",
      "This will always be executed.\n",
      "Error: division by zero\n",
      "This will always be executed.\n"
     ]
    }
   ],
   "source": [
    "#example\n",
    "def divide_numbers(x, y):\n",
    "    try:\n",
    "        result = x / y\n",
    "    except ZeroDivisionError as e:\n",
    "        print(f\"Error: {e}\")\n",
    "    else:\n",
    "        print(f\"The result is: {result}\")\n",
    "    finally:\n",
    "        print(\"This will always be executed.\")\n",
    "\n",
    "# Example usage\n",
    "divide_numbers(10, 2)   \n",
    "divide_numbers(10, 0)   \n"
   ]
  },
  {
   "cell_type": "code",
   "execution_count": 16,
   "id": "121238c0-8c68-4fcb-9a21-0b87612dc9da",
   "metadata": {},
   "outputs": [],
   "source": [
    "#Q4. explain try,else,except and finally with example "
   ]
  },
  {
   "cell_type": "code",
   "execution_count": 17,
   "id": "929093dc-2e32-413b-a426-4f8629740689",
   "metadata": {},
   "outputs": [],
   "source": [
    "#try-This block contains the code that might raise an exception.\n",
    "#except-You can specify the type of exception to catch or use a generic except block to catch any exception.\n",
    "#else-This block is executed if no exceptions are raised in the try block.\n",
    "#finally-This block is always executed, regardless of whether an exception occurred or not. It is often used for cleanup operations."
   ]
  },
  {
   "cell_type": "code",
   "execution_count": 19,
   "id": "5dcf0eaa-c34a-4f6a-9282-11c9c4f0c460",
   "metadata": {},
   "outputs": [
    {
     "name": "stdout",
     "output_type": "stream",
     "text": [
      "The result is: 5.0\n",
      "This will always be executed.\n",
      "Error: division by zero\n",
      "This will always be executed.\n"
     ]
    }
   ],
   "source": [
    "#example\n",
    "def divide_numbers(x, y):\n",
    "    try:\n",
    "        result = x / y\n",
    "    except ZeroDivisionError as e:\n",
    "        print(f\"Error: {e}\")\n",
    "    else:\n",
    "        print(f\"The result is: {result}\")\n",
    "    finally:\n",
    "        print(\"This will always be executed.\")\n",
    "\n",
    "# Example usage\n",
    "divide_numbers(10, 2)   \n",
    "divide_numbers(10, 0)   "
   ]
  },
  {
   "cell_type": "code",
   "execution_count": 20,
   "id": "a4346b36-0574-4a01-9d37-0f527aeeeb11",
   "metadata": {},
   "outputs": [],
   "source": [
    "#Q5.what are custom exceptions?why do we need it? explain with example."
   ]
  },
  {
   "cell_type": "code",
   "execution_count": 21,
   "id": "7f259e1c-fab4-46bc-a532-afc0be767cd6",
   "metadata": {},
   "outputs": [],
   "source": [
    "#custom exception-IT allows you to create your own specific exception types tailored to your application's needs. "
   ]
  },
  {
   "cell_type": "code",
   "execution_count": 22,
   "id": "a4a973e2-6083-4a68-8a0e-e92eee7088cb",
   "metadata": {},
   "outputs": [],
   "source": [
    "#need of it-You can create a centralized error-handling mechanism by defining a hierarchy of custom exceptions. This allows you to catch and handle exceptions at different levels of abstraction."
   ]
  },
  {
   "cell_type": "code",
   "execution_count": 23,
   "id": "ae04c8a8-4f1d-4bbb-8fb5-aaad13806979",
   "metadata": {},
   "outputs": [
    {
     "name": "stdout",
     "output_type": "stream",
     "text": [
      "Processing the positive value: 42\n",
      "NegativeValueError: Value -5 must be non-negative.\n"
     ]
    }
   ],
   "source": [
    "class NegativeValueError(Exception):\n",
    "    \"\"\"Custom exception for handling negative values.\"\"\"\n",
    "    def __init__(self, value):\n",
    "        self.value = value\n",
    "        super().__init__(f\"NegativeValueError: Value {value} must be non-negative.\")\n",
    "\n",
    "def process_positive_value(x):\n",
    "    if x < 0:\n",
    "        raise NegativeValueError(x)\n",
    "    else:\n",
    "        print(f\"Processing the positive value: {x}\")\n",
    "\n",
    "# Example usage\n",
    "try:\n",
    "    process_positive_value(42)\n",
    "    process_positive_value(-5)  \n",
    "except NegativeValueError as e:\n",
    "    print(e)"
   ]
  },
  {
   "cell_type": "code",
   "execution_count": 1,
   "id": "2f640c5b-caef-466a-a17c-fb8f8c6792ac",
   "metadata": {},
   "outputs": [],
   "source": [
    "#Q6.create a custom exception class."
   ]
  },
  {
   "cell_type": "code",
   "execution_count": 2,
   "id": "17796ade-94af-40dd-8acc-4d998816714a",
   "metadata": {},
   "outputs": [
    {
     "name": "stdout",
     "output_type": "stream",
     "text": [
      "Processing the positive value: 42\n",
      "NegativeValueError: Value -5 must be non-negative.\n"
     ]
    }
   ],
   "source": [
    "class NegativeValueError(Exception):\n",
    "    \"\"\"Custom exception for handling negative values.\"\"\"\n",
    "    def __init__(self, value):\n",
    "        self.value = value\n",
    "        super().__init__(f\"NegativeValueError: Value {value} must be non-negative.\")\n",
    "\n",
    "def process_positive_value(x):\n",
    "    if x < 0:\n",
    "        raise NegativeValueError(x)\n",
    "    else:\n",
    "        print(f\"Processing the positive value: {x}\")\n",
    "\n",
    "# Example usage\n",
    "try:\n",
    "    process_positive_value(42)\n",
    "    process_positive_value(-5)  \n",
    "except NegativeValueError as e:\n",
    "    print(e)"
   ]
  },
  {
   "cell_type": "code",
   "execution_count": null,
   "id": "e2143a13-897e-4db7-894e-1a970bd10917",
   "metadata": {},
   "outputs": [],
   "source": []
  }
 ],
 "metadata": {
  "kernelspec": {
   "display_name": "Python 3 (ipykernel)",
   "language": "python",
   "name": "python3"
  },
  "language_info": {
   "codemirror_mode": {
    "name": "ipython",
    "version": 3
   },
   "file_extension": ".py",
   "mimetype": "text/x-python",
   "name": "python",
   "nbconvert_exporter": "python",
   "pygments_lexer": "ipython3",
   "version": "3.10.8"
  }
 },
 "nbformat": 4,
 "nbformat_minor": 5
}
