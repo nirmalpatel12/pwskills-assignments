{
 "cells": [
  {
   "cell_type": "code",
   "execution_count": 1,
   "id": "03caa396-bc50-4dee-8dec-28a45c39a16c",
   "metadata": {},
   "outputs": [],
   "source": [
    "#Q1. Which keyword is used to create a function? Create a function to return a list of odd numbers in the\n",
    "#range of 1 to 25."
   ]
  },
  {
   "cell_type": "code",
   "execution_count": 2,
   "id": "98338bbb-b581-4fb7-a538-9625f785822d",
   "metadata": {},
   "outputs": [],
   "source": [
    "# def is used to create a function."
   ]
  },
  {
   "cell_type": "code",
   "execution_count": 17,
   "id": "2b8074e6-5ff6-4834-b951-2449259c3f63",
   "metadata": {},
   "outputs": [],
   "source": [
    "def odd_numbers_in_range(a,b):\n",
    "    l = []  # Create an empty list to store odd numbers\n",
    "    \n",
    "    # Iterate through the range from start to end\n",
    "    for num in range(a,b):\n",
    "        if num%2 != 0:  # Check if the number is odd\n",
    "            l.append(num)  # Add the odd number to the list\n",
    "    \n",
    "    return l"
   ]
  },
  {
   "cell_type": "code",
   "execution_count": 18,
   "id": "0d44810a-e871-4e43-8e1f-7d1ecc6ac5b1",
   "metadata": {},
   "outputs": [
    {
     "data": {
      "text/plain": [
       "[1, 3, 5, 7, 9, 11, 13, 15, 17, 19, 21, 23, 25]"
      ]
     },
     "execution_count": 18,
     "metadata": {},
     "output_type": "execute_result"
    }
   ],
   "source": [
    "odd_numbers_in_range(1,26)"
   ]
  },
  {
   "cell_type": "code",
   "execution_count": 19,
   "id": "b68f5872-6a56-48c2-9e3a-62d4a264576b",
   "metadata": {},
   "outputs": [],
   "source": [
    "#Q2. Why *args and **kwargs is used in some functions? Create a function each for *args and **kwargs to\n",
    "#demonstrate their use."
   ]
  },
  {
   "cell_type": "code",
   "execution_count": 20,
   "id": "6eb1b6cb-8dcb-462b-934b-18c3f896f359",
   "metadata": {},
   "outputs": [],
   "source": [
    "#*args is non-keyword arguement which passes to function as a tuple\n",
    "#**kwaegs is keyword arguments with name which passes to function as a dictionary"
   ]
  },
  {
   "cell_type": "code",
   "execution_count": 30,
   "id": "ffedcf5a-310e-49f1-a409-02ae30501433",
   "metadata": {},
   "outputs": [],
   "source": [
    "def arg_ex(*args):\n",
    "    sum=0\n",
    "    for i in args:\n",
    "        sum = sum+i\n",
    "    return sum    "
   ]
  },
  {
   "cell_type": "code",
   "execution_count": 31,
   "id": "893dc066-d0f0-43c1-bf2a-7c702ab17367",
   "metadata": {},
   "outputs": [
    {
     "data": {
      "text/plain": [
       "55"
      ]
     },
     "execution_count": 31,
     "metadata": {},
     "output_type": "execute_result"
    }
   ],
   "source": [
    "arg_ex(1,2,3,4,5,6,7,8,9,10)"
   ]
  },
  {
   "cell_type": "code",
   "execution_count": 32,
   "id": "b052fac0-3322-48e6-984b-4da1f0eb7011",
   "metadata": {},
   "outputs": [],
   "source": [
    "def kwargs(**kwargs):\n",
    "    for key,value in kwargs.items():\n",
    "        print(f'{key}:{value}')"
   ]
  },
  {
   "cell_type": "code",
   "execution_count": 35,
   "id": "5730de89-d024-4be7-bf9b-dd10e8975699",
   "metadata": {},
   "outputs": [
    {
     "name": "stdout",
     "output_type": "stream",
     "text": [
      "name:dev\n",
      "salary:20000\n",
      "age:20\n"
     ]
    }
   ],
   "source": [
    "kwargs(name='dev',salary=20000,age=20)"
   ]
  },
  {
   "cell_type": "code",
   "execution_count": 36,
   "id": "be78c51e-7192-4ea0-aaa0-f8e9e552fb7b",
   "metadata": {},
   "outputs": [],
   "source": [
    "#Q3. What is an iterator in python? Name the method used to initialise the iterator object and the method\n",
    "#used for iteration. Use these methods to print the first five elements of the given list [2, 4, 6, 8, 10, 12, 14, 16,\n",
    "#18, 20]."
   ]
  },
  {
   "cell_type": "code",
   "execution_count": 37,
   "id": "75a13741-2aa7-4873-b5a6-0ed9e29fa686",
   "metadata": {},
   "outputs": [],
   "source": [
    "#iterator is used to loop through those element once at a time\n",
    "# it is initialized with iter() and next() is used for next iterator"
   ]
  },
  {
   "cell_type": "code",
   "execution_count": 38,
   "id": "86306bbc-f085-4cdd-86d6-4e8e3cb59b76",
   "metadata": {},
   "outputs": [
    {
     "name": "stdout",
     "output_type": "stream",
     "text": [
      "2\n",
      "4\n",
      "6\n",
      "8\n",
      "10\n"
     ]
    }
   ],
   "source": [
    "list1=[2,4,6,8,10,12,14,16,18,20]\n",
    "iterator=iter(list1)\n",
    "for i in range(5):\n",
    "    element=next(iterator)\n",
    "    print(element)"
   ]
  },
  {
   "cell_type": "code",
   "execution_count": 39,
   "id": "8cfb787d-a1b9-4418-a0a8-3cab9ea3237a",
   "metadata": {},
   "outputs": [],
   "source": [
    "#Q4. What is a generator function in python? Why yield keyword is used? Give an example of a generator\n",
    "#function."
   ]
  },
  {
   "cell_type": "code",
   "execution_count": 40,
   "id": "20fe824d-f1dd-41eb-bcc8-f8dc4fd01aeb",
   "metadata": {},
   "outputs": [],
   "source": [
    "#generator function is used to without storing the entire sequence in storage, it gives output.\n",
    "#yield is worked as a iterator one at a time"
   ]
  },
  {
   "cell_type": "code",
   "execution_count": 41,
   "id": "2a6e77d0-4436-4e6e-b21f-eb73287f9052",
   "metadata": {},
   "outputs": [
    {
     "name": "stdout",
     "output_type": "stream",
     "text": [
      "1\n",
      "2\n",
      "3\n",
      "4\n",
      "5\n"
     ]
    }
   ],
   "source": [
    "def count_up_to(n):\n",
    "    i = 1\n",
    "    while i <= n:\n",
    "        yield i\n",
    "        i += 1\n",
    "my_generator = count_up_to(5)\n",
    "for num in my_generator:\n",
    "    print(num)\n"
   ]
  },
  {
   "cell_type": "code",
   "execution_count": 42,
   "id": "8d7bd1db-ac8a-4246-855c-f1df81c35a40",
   "metadata": {},
   "outputs": [],
   "source": [
    "#Q5. Create a generator function for prime numbers less than 1000. Use the next() method to print the\n",
    "#first 20 prime numbers."
   ]
  },
  {
   "cell_type": "code",
   "execution_count": 54,
   "id": "f8d2f131-6ca0-46f9-b373-aa04be407cbb",
   "metadata": {},
   "outputs": [],
   "source": [
    "def generate_primes(limit):\n",
    "    primes = []\n",
    "    num = 2\n",
    "    while len(primes) < limit:\n",
    "        for p in primes:\n",
    "            if num % p == 0:\n",
    "                break\n",
    "        else:\n",
    "            primes.append(num)\n",
    "            yield num\n",
    "        num += 1"
   ]
  },
  {
   "cell_type": "code",
   "execution_count": 55,
   "id": "28d20ff7-ce55-4ac8-b6cb-6a3fda3e42d4",
   "metadata": {},
   "outputs": [
    {
     "name": "stdout",
     "output_type": "stream",
     "text": [
      "2\n",
      "3\n",
      "5\n",
      "7\n",
      "11\n",
      "13\n",
      "17\n",
      "19\n",
      "23\n",
      "29\n",
      "31\n",
      "37\n",
      "41\n",
      "43\n",
      "47\n",
      "53\n",
      "59\n",
      "61\n",
      "67\n",
      "71\n"
     ]
    }
   ],
   "source": [
    "prime_generator = generate_primes(20)\n",
    "for _ in range(20):\n",
    "    prime = next(prime_generator)\n",
    "    print(prime)\n"
   ]
  },
  {
   "cell_type": "code",
   "execution_count": null,
   "id": "b3cd0e1f-f966-4886-b5c9-b2cb9e075f87",
   "metadata": {},
   "outputs": [],
   "source": []
  },
  {
   "cell_type": "code",
   "execution_count": null,
   "id": "a24f9db0-ea3e-4151-a2b0-cb588680e307",
   "metadata": {},
   "outputs": [],
   "source": []
  }
 ],
 "metadata": {
  "kernelspec": {
   "display_name": "Python 3 (ipykernel)",
   "language": "python",
   "name": "python3"
  },
  "language_info": {
   "codemirror_mode": {
    "name": "ipython",
    "version": 3
   },
   "file_extension": ".py",
   "mimetype": "text/x-python",
   "name": "python",
   "nbconvert_exporter": "python",
   "pygments_lexer": "ipython3",
   "version": "3.10.8"
  }
 },
 "nbformat": 4,
 "nbformat_minor": 5
}
