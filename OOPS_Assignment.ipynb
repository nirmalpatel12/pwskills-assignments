{
 "cells": [
  {
   "cell_type": "code",
   "execution_count": 1,
   "id": "a0c88439-61a9-43dd-9a93-57210b873696",
   "metadata": {},
   "outputs": [],
   "source": [
    "#Q1. Explain Class and Object with respect to Object-Oriented Programming. Give a suitable example."
   ]
  },
  {
   "cell_type": "code",
   "execution_count": 2,
   "id": "39614a1f-e6c5-4a6b-9d7c-02021c238a30",
   "metadata": {},
   "outputs": [],
   "source": [
    "#class->A class is like a blueprint or a template for creating objects. \n",
    "#       It defines a set of attributes and methods that the objects created from the class. "
   ]
  },
  {
   "cell_type": "code",
   "execution_count": 3,
   "id": "b0bcb400-7aef-452f-b52d-1ec3c7d41380",
   "metadata": {},
   "outputs": [],
   "source": [
    "#object->An object is an instance of a class.It has specific values for its attributes \n",
    "#        and can perform actions defined by the methods in its class."
   ]
  },
  {
   "cell_type": "code",
   "execution_count": 4,
   "id": "f8d391ed-26c9-429a-b43d-faa2fd7d6f74",
   "metadata": {},
   "outputs": [],
   "source": [
    "class student:\n",
    "    def student_details(self,name,roll_no,age):\n",
    "        self.name=name\n",
    "        self.roll_no=roll_no\n",
    "        self.age=age\n",
    "        print(f'student name is->{self.name}')\n",
    "        print(f'student roll number is->{self.roll_no}')\n",
    "        print(f'student age is->{self.age}')\n",
    "    def student_marks(self,mark):\n",
    "        self.mark=mark\n",
    "        print(f'student marks are {self.mark} in maths')"
   ]
  },
  {
   "cell_type": "code",
   "execution_count": 7,
   "id": "68bd4d67-623b-400e-bb88-94d7ee00cbc1",
   "metadata": {},
   "outputs": [],
   "source": [
    "obj=student()"
   ]
  },
  {
   "cell_type": "code",
   "execution_count": 8,
   "id": "f7938d3e-8a1d-471a-bd3e-764b4be524b7",
   "metadata": {},
   "outputs": [
    {
     "name": "stdout",
     "output_type": "stream",
     "text": [
      "student name is->Nirmal\n",
      "student roll number is->127\n",
      "student age is->21\n"
     ]
    }
   ],
   "source": [
    "obj.student_details('Nirmal',127,21)"
   ]
  },
  {
   "cell_type": "code",
   "execution_count": 9,
   "id": "42fafa87-32cf-4e1f-95eb-a58028d210d7",
   "metadata": {},
   "outputs": [
    {
     "name": "stdout",
     "output_type": "stream",
     "text": [
      "student marks are 99 in maths\n"
     ]
    }
   ],
   "source": [
    "obj.student_marks(99)"
   ]
  },
  {
   "cell_type": "code",
   "execution_count": 10,
   "id": "34c44683-5d79-4837-8305-c48a58abc9e6",
   "metadata": {},
   "outputs": [],
   "source": [
    "#Q2. Name the four pillars of OOPs."
   ]
  },
  {
   "cell_type": "code",
   "execution_count": 11,
   "id": "bbaf1dcf-401b-402b-967f-78546bb4a96d",
   "metadata": {},
   "outputs": [],
   "source": [
    "#1.polymorphism-It enables a single interface to represent different types of objects and provides a way for objects to take on multiple forms. \n",
    "#2.Encapsulation-It restricts access to some of an object's components and prevents the accidental modification of data.\n",
    "#3.Inheritance- It promotes code reusability and establishes a relationship between classes, forming a hierarchy.\n",
    "#4.Abstraction- It focuses on what an object does rather than how it does it, allowing you to ignore the complex details and work at a higher level."
   ]
  },
  {
   "cell_type": "code",
   "execution_count": 12,
   "id": "4da3405d-3221-428a-8f13-14b9d1291506",
   "metadata": {},
   "outputs": [],
   "source": [
    "#Q3. Explain why the __init__() function is used. Give a suitable example."
   ]
  },
  {
   "cell_type": "code",
   "execution_count": 14,
   "id": "856fcf6c-22b3-4c69-a4ef-c3e93470d5e7",
   "metadata": {},
   "outputs": [],
   "source": [
    "#__init__() is used to make constructor\n",
    "#contructor-It passes the data to the class so that variable we can access any where in that class."
   ]
  },
  {
   "cell_type": "code",
   "execution_count": 15,
   "id": "3eec23b3-e4cb-45e6-98ba-7bfb5c60fa93",
   "metadata": {},
   "outputs": [
    {
     "name": "stdout",
     "output_type": "stream",
     "text": [
      "Buddy is 3 years old.\n",
      "Buddy says Woof!\n",
      "Buddy is eating.\n",
      "Max is 5 years old.\n",
      "Max says Woof!\n",
      "Max is eating.\n"
     ]
    }
   ],
   "source": [
    "class Dog:\n",
    "    def __init__(self, name, age):\n",
    "        self.name = name\n",
    "        self.age = age\n",
    "        self.is_hungry = True\n",
    "\n",
    "    def bark(self):\n",
    "        print(f\"{self.name} says Woof!\")\n",
    "\n",
    "    def eat(self):\n",
    "        if self.is_hungry:\n",
    "            print(f\"{self.name} is eating.\")\n",
    "            self.is_hungry = False\n",
    "        else:\n",
    "            print(f\"{self.name} is not hungry right now.\")\n",
    "\n",
    "# Creating instances (objects) of the Dog class\n",
    "dog1 = Dog(\"Buddy\", 3)\n",
    "dog2 = Dog(\"Max\", 5)\n",
    "\n",
    "# Accessing attributes and calling methods\n",
    "print(f\"{dog1.name} is {dog1.age} years old.\")\n",
    "dog1.bark()\n",
    "dog1.eat()\n",
    "\n",
    "print(f\"{dog2.name} is {dog2.age} years old.\")\n",
    "dog2.bark()\n",
    "dog2.eat()\n"
   ]
  },
  {
   "cell_type": "code",
   "execution_count": 16,
   "id": "f8c9bec8-2dbe-4207-8e0a-c90715772410",
   "metadata": {},
   "outputs": [],
   "source": [
    "#Q4. Why self is used in OOPs?"
   ]
  },
  {
   "cell_type": "code",
   "execution_count": 17,
   "id": "ce3ddea6-7cd2-42c3-92ad-8749969e92e2",
   "metadata": {},
   "outputs": [],
   "source": [
    "#self-It represents the instance of the class. It is the first parameter that is passed to any method defined \n",
    "#     in a class and refers to the instance of the class itself. The use of self is a way to access and manipulate \n",
    "#     the instance variables of the class."
   ]
  },
  {
   "cell_type": "code",
   "execution_count": 18,
   "id": "aa373f98-a71e-4dd4-85b8-257a77df2e59",
   "metadata": {},
   "outputs": [],
   "source": [
    "#Q5. What is inheritance? Give an example for each type of inheritance."
   ]
  },
  {
   "cell_type": "code",
   "execution_count": 19,
   "id": "34fdcf31-fb04-4534-a7ab-70f3814080c3",
   "metadata": {},
   "outputs": [],
   "source": [
    "# 3 types of inheritance->1.single 2.multiple3.multilevel"
   ]
  },
  {
   "cell_type": "code",
   "execution_count": 21,
   "id": "b8fb7aa5-5651-4744-91ad-67116356f1f4",
   "metadata": {},
   "outputs": [
    {
     "name": "stdout",
     "output_type": "stream",
     "text": [
      "It is a cat.\n",
      "It is a dog.\n"
     ]
    }
   ],
   "source": [
    "#1.single inheritance\n",
    "class cat:\n",
    "    def animal1(self):\n",
    "        print('It is a cat.')\n",
    "\n",
    "class dog(cat):\n",
    "    def animal2(self):\n",
    "        print('It is a dog.')\n",
    "\n",
    "# Example usage\n",
    "my_dog = dog()\n",
    "my_dog.animal1()\n",
    "my_dog.animal2()"
   ]
  },
  {
   "cell_type": "code",
   "execution_count": 24,
   "id": "4a87fb81-3074-4465-8a2e-b93c5591dfe1",
   "metadata": {},
   "outputs": [
    {
     "name": "stdout",
     "output_type": "stream",
     "text": [
      "It is a cat.\n",
      "It is a dog.\n",
      "It is a lion\n"
     ]
    }
   ],
   "source": [
    "#2.multiple inheritance\n",
    "class cat:\n",
    "    def animal1(self):\n",
    "        print('It is a cat.')\n",
    "\n",
    "class dog:\n",
    "    def animal2(self):\n",
    "        print('It is a dog.')\n",
    "\n",
    "class lion(cat,dog):\n",
    "    def animal3(self):\n",
    "        print('It is a lion')\n",
    "\n",
    "obj=lion()\n",
    "obj.animal1()\n",
    "obj.animal2()\n",
    "obj.animal3()"
   ]
  },
  {
   "cell_type": "code",
   "execution_count": 25,
   "id": "d9ccb2b0-ef5b-428a-8033-237e17144292",
   "metadata": {},
   "outputs": [
    {
     "name": "stdout",
     "output_type": "stream",
     "text": [
      "It is a cat.\n",
      "It is a dog.\n",
      "It is a lion\n"
     ]
    }
   ],
   "source": [
    "#3.multilevel inheritance\n",
    "class cat:\n",
    "    def animal1(self):\n",
    "        print('It is a cat.')\n",
    "\n",
    "class dog(cat):\n",
    "    def animal2(self):\n",
    "        print('It is a dog.')\n",
    "\n",
    "class lion(dog):\n",
    "    def animal3(self):\n",
    "        print('It is a lion')\n",
    "\n",
    "obj=lion()\n",
    "obj.animal1()\n",
    "obj.animal2()\n",
    "obj.animal3()"
   ]
  },
  {
   "cell_type": "code",
   "execution_count": null,
   "id": "1b088739-260a-44c9-9d10-18e1b645902b",
   "metadata": {},
   "outputs": [],
   "source": []
  }
 ],
 "metadata": {
  "kernelspec": {
   "display_name": "Python 3 (ipykernel)",
   "language": "python",
   "name": "python3"
  },
  "language_info": {
   "codemirror_mode": {
    "name": "ipython",
    "version": 3
   },
   "file_extension": ".py",
   "mimetype": "text/x-python",
   "name": "python",
   "nbconvert_exporter": "python",
   "pygments_lexer": "ipython3",
   "version": "3.10.8"
  }
 },
 "nbformat": 4,
 "nbformat_minor": 5
}
