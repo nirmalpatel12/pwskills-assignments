{
 "cells": [
  {
   "cell_type": "code",
   "execution_count": 1,
   "id": "da9fd2c4-f77c-486f-ae75-faa23a00fe54",
   "metadata": {},
   "outputs": [],
   "source": [
    "#Q1. What is multiprocessing in python? Why is it useful?"
   ]
  },
  {
   "cell_type": "code",
   "execution_count": 2,
   "id": "163ca4fc-fc7f-4c53-a50b-97b0e824d9ba",
   "metadata": {},
   "outputs": [
    {
     "data": {
      "text/plain": [
       "'Multiprocessing in Python refers to the parallel execution of multiple processes, where each process runs \\nindependently and has its own memory space. Unlike multithreading, multiprocessing takes advantage of multiple CPU \\ncores, allowing true parallelism and potentially improving the performance of CPU-bound tasks.'"
      ]
     },
     "execution_count": 2,
     "metadata": {},
     "output_type": "execute_result"
    }
   ],
   "source": [
    "'''Multiprocessing in Python refers to the parallel execution of multiple processes, where each process runs \n",
    "independently and has its own memory space. Unlike multithreading, multiprocessing takes advantage of multiple CPU \n",
    "cores, allowing true parallelism and potentially improving the performance of CPU-bound tasks.'''"
   ]
  },
  {
   "cell_type": "code",
   "execution_count": 3,
   "id": "aa0d0bfc-1ea0-41b7-8050-6a29ab8e121c",
   "metadata": {},
   "outputs": [],
   "source": [
    "#1.Improved Performance:\n",
    "#2.True Parallelism:\n",
    "#3.Fault Isolation:\n",
    "#4.Resource Utilization:\n",
    "#5.Scalability:"
   ]
  },
  {
   "cell_type": "code",
   "execution_count": 4,
   "id": "27e5eed8-eecc-4938-bb68-23c2f7c88a5c",
   "metadata": {},
   "outputs": [],
   "source": [
    "#Q2. What are the differences between multiprocessing and multithreading?"
   ]
  },
  {
   "cell_type": "code",
   "execution_count": 6,
   "id": "74214106-4868-48fc-b0e2-1e784531ca07",
   "metadata": {},
   "outputs": [
    {
     "data": {
      "text/plain": [
       "'1. Execution Model:\\nIn multiprocessing, multiple processes run independently, each with its own address space and resources.\\nIn multithreading, multiple threads run within the same process, sharing the same resources and memory space.'"
      ]
     },
     "execution_count": 6,
     "metadata": {},
     "output_type": "execute_result"
    }
   ],
   "source": [
    "'''1. Execution Model:\n",
    "In multiprocessing, multiple processes run independently, each with its own address space and resources.\n",
    "In multithreading, multiple threads run within the same process, sharing the same resources and memory space.'''"
   ]
  },
  {
   "cell_type": "code",
   "execution_count": 7,
   "id": "2d752d68-3a77-401f-ab7f-6bfd34478ace",
   "metadata": {},
   "outputs": [
    {
     "data": {
      "text/plain": [
       "'2. Memory Space:\\nIn multiprocessing,Processes have separate memory spaces, which reduces the likelihood of data corruption.\\nIn multithreading,Threads within the same process share the same memory space.'"
      ]
     },
     "execution_count": 7,
     "metadata": {},
     "output_type": "execute_result"
    }
   ],
   "source": [
    "'''2. Memory Space:\n",
    "In multiprocessing,Processes have separate memory spaces, which reduces the likelihood of data corruption.\n",
    "In multithreading,Threads within the same process share the same memory space.'''"
   ]
  },
  {
   "cell_type": "code",
   "execution_count": 8,
   "id": "dcfbba97-1eae-41de-8c4d-193d7b4b0d23",
   "metadata": {},
   "outputs": [
    {
     "data": {
      "text/plain": [
       "'3. Communication:\\nIn Multiprocessing, Communication between processes is achieved through IPC mechanisms like pipes, queues, and shared memory.\\nIn multithreading,Communication between threads is typically done through shared variables.'"
      ]
     },
     "execution_count": 8,
     "metadata": {},
     "output_type": "execute_result"
    }
   ],
   "source": [
    "'''3. Communication:\n",
    "In Multiprocessing, Communication between processes is achieved through IPC mechanisms like pipes, queues, and shared memory.\n",
    "In multithreading,Communication between threads is typically done through shared variables.'''"
   ]
  },
  {
   "cell_type": "code",
   "execution_count": 9,
   "id": "aa2ea661-0aaf-446f-8a33-857d8bf53ccf",
   "metadata": {},
   "outputs": [
    {
     "data": {
      "text/plain": [
       "'4. Scalability:\\nIn Multiprocessing,Suitable for scenarios where parallel execution is needed on multi-core systems.\\nIn multithreading,Suitable for I/O-bound tasks where threads can perform other operations while waiting for I/O.'"
      ]
     },
     "execution_count": 9,
     "metadata": {},
     "output_type": "execute_result"
    }
   ],
   "source": [
    "'''4. Scalability:\n",
    "In Multiprocessing,Suitable for scenarios where parallel execution is needed on multi-core systems.\n",
    "In multithreading,Suitable for I/O-bound tasks where threads can perform other operations while waiting for I/O.'''"
   ]
  },
  {
   "cell_type": "code",
   "execution_count": 10,
   "id": "2a4ef48f-ebec-4e88-a1b8-c8fd8f74f267",
   "metadata": {},
   "outputs": [
    {
     "data": {
      "text/plain": [
       "'5. Fault Isolation:\\nIn multiprocessing,Processes are independent, and a fault or crash in one process is less likely to affect others.\\nIn multithreading,Threads share the same process space, and a crash in one thread can potentially affect the entire process.'"
      ]
     },
     "execution_count": 10,
     "metadata": {},
     "output_type": "execute_result"
    }
   ],
   "source": [
    "'''5. Fault Isolation:\n",
    "In multiprocessing,Processes are independent, and a fault or crash in one process is less likely to affect others.\n",
    "In multithreading,Threads share the same process space, and a crash in one thread can potentially affect the entire process.'''"
   ]
  },
  {
   "cell_type": "code",
   "execution_count": 11,
   "id": "21dea70c-9bc5-436b-82f5-1d6e077718f4",
   "metadata": {},
   "outputs": [],
   "source": [
    "#Q3. Write a python code to create a process using the multiprocessing module."
   ]
  },
  {
   "cell_type": "code",
   "execution_count": 12,
   "id": "ebac4ffe-6374-4461-b4c4-e13f6b346915",
   "metadata": {},
   "outputs": [
    {
     "name": "stdout",
     "output_type": "stream",
     "text": [
      "Worker 1 is doing some work.\n",
      "Worker 2 is doing some work.\n",
      "Both processes have finished.\n"
     ]
    }
   ],
   "source": [
    "import multiprocessing\n",
    "\n",
    "def worker(num):\n",
    "    print(f\"Worker {num} is doing some work.\")\n",
    "\n",
    "if __name__ == \"__main__\":\n",
    "    # Create and start two processes\n",
    "    process1 = multiprocessing.Process(target=worker, args=(1,))\n",
    "    process2 = multiprocessing.Process(target=worker, args=(2,))\n",
    "\n",
    "    process1.start()\n",
    "    process2.start()\n",
    "\n",
    "    # Wait for both processes to finish\n",
    "    process1.join()\n",
    "    process2.join()\n",
    "\n",
    "    print(\"Both processes have finished.\")"
   ]
  },
  {
   "cell_type": "code",
   "execution_count": 14,
   "id": "18ced1c6-b57c-41d4-a32c-7a33ae3d3126",
   "metadata": {},
   "outputs": [],
   "source": [
    "#Q4. What is a multiprocessing pool in python? Why is it used?"
   ]
  },
  {
   "cell_type": "code",
   "execution_count": 15,
   "id": "fd5d9e75-7252-468d-8424-17311dabfe9d",
   "metadata": {},
   "outputs": [
    {
     "data": {
      "text/plain": [
       "'A multiprocessing pool in Python refers to a pool of worker processes that can be used to parallelize the execution of a function across multiple input values. It is provided by the multiprocessing module and is especially useful for distributing independent tasks across multiple processes.'"
      ]
     },
     "execution_count": 15,
     "metadata": {},
     "output_type": "execute_result"
    }
   ],
   "source": [
    "'''A multiprocessing pool in Python refers to a pool of worker processes that can be used to parallelize the execution of a function across multiple input values. It is provided by the multiprocessing module and is especially useful for distributing independent tasks across multiple processes.'''"
   ]
  },
  {
   "cell_type": "code",
   "execution_count": 16,
   "id": "5c179250-51a2-4d60-ac83-8dd0f2c47fdc",
   "metadata": {},
   "outputs": [],
   "source": [
    "#Q5. How can we create a pool of worker processes in python using the multiprocessing module?"
   ]
  },
  {
   "cell_type": "code",
   "execution_count": 17,
   "id": "87a95800-db5f-48ce-ba7a-c09ddc441f7c",
   "metadata": {},
   "outputs": [
    {
     "name": "stdout",
     "output_type": "stream",
     "text": [
      "Original Values: [1, 2, 3, 4, 5]\n",
      "Squared Values: [1, 4, 9, 16, 25]\n"
     ]
    }
   ],
   "source": [
    "import multiprocessing\n",
    "\n",
    "def square(x):\n",
    "    return x**2\n",
    "\n",
    "if __name__ == \"__main__\":\n",
    "    # Create a pool with 3 worker processes\n",
    "    with multiprocessing.Pool(processes=3) as pool:\n",
    "        # Define a list of input values\n",
    "        input_values = [1, 2, 3, 4, 5]\n",
    "\n",
    "        # Use the pool to apply the square function to each input value\n",
    "        results = pool.map(square, input_values)\n",
    "\n",
    "        # Print the results\n",
    "        print(\"Original Values:\", input_values)\n",
    "        print(\"Squared Values:\", results)"
   ]
  },
  {
   "cell_type": "code",
   "execution_count": 18,
   "id": "95798806-4422-4ec6-bb50-a09307361e96",
   "metadata": {},
   "outputs": [],
   "source": [
    "#Q6. Write a python program to create 4 processes, each process should print a different number using the\n",
    "#multiprocessing module in python."
   ]
  },
  {
   "cell_type": "code",
   "execution_count": 19,
   "id": "975c5f5f-6c65-46e6-a4ef-e48a6603c19b",
   "metadata": {},
   "outputs": [
    {
     "name": "stdout",
     "output_type": "stream",
     "text": [
      "Process 1: My number is 1Process 2: My number is 2Process 3: My number is 3Process 4: My number is 4\n",
      "\n",
      "\n",
      "\n"
     ]
    }
   ],
   "source": [
    "import multiprocessing\n",
    "\n",
    "def print_number(number):\n",
    "    print(f\"Process {number}: My number is {number}\")\n",
    "\n",
    "if __name__ == \"__main__\":\n",
    "    # Create 4 processes\n",
    "    with multiprocessing.Pool(processes=4) as pool:\n",
    "        # Map the print_number function to each process with a different number\n",
    "        pool.map(print_number, range(1, 5))"
   ]
  },
  {
   "cell_type": "code",
   "execution_count": null,
   "id": "41462d35-d8cf-4052-b257-26403e589774",
   "metadata": {},
   "outputs": [],
   "source": []
  }
 ],
 "metadata": {
  "kernelspec": {
   "display_name": "Python 3 (ipykernel)",
   "language": "python",
   "name": "python3"
  },
  "language_info": {
   "codemirror_mode": {
    "name": "ipython",
    "version": 3
   },
   "file_extension": ".py",
   "mimetype": "text/x-python",
   "name": "python",
   "nbconvert_exporter": "python",
   "pygments_lexer": "ipython3",
   "version": "3.10.8"
  }
 },
 "nbformat": 4,
 "nbformat_minor": 5
}
