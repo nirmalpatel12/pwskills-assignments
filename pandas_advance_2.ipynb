{
 "cells": [
  {
   "cell_type": "code",
   "execution_count": 1,
   "id": "9639503a-626c-448e-b45f-5040b7141bd8",
   "metadata": {},
   "outputs": [],
   "source": [
    "#Q1. Write a code to print the data present in the second row of the dataframe, df."
   ]
  },
  {
   "cell_type": "code",
   "execution_count": 15,
   "id": "040449ae-39d1-4512-8c15-40a9a7561c6a",
   "metadata": {},
   "outputs": [],
   "source": [
    "import pandas as pd\n",
    "course_name = ['Data Science', 'Machine Learning', 'Big Data', 'Data Engineer']\n",
    "duration = [2,3,6,4]\n",
    "df = pd.DataFrame(data = {'course_name' : course_name, 'duration' : duration})"
   ]
  },
  {
   "cell_type": "code",
   "execution_count": 16,
   "id": "0ba84227-6acb-443b-a944-f6a5643f0304",
   "metadata": {},
   "outputs": [
    {
     "data": {
      "text/html": [
       "<div>\n",
       "<style scoped>\n",
       "    .dataframe tbody tr th:only-of-type {\n",
       "        vertical-align: middle;\n",
       "    }\n",
       "\n",
       "    .dataframe tbody tr th {\n",
       "        vertical-align: top;\n",
       "    }\n",
       "\n",
       "    .dataframe thead th {\n",
       "        text-align: right;\n",
       "    }\n",
       "</style>\n",
       "<table border=\"1\" class=\"dataframe\">\n",
       "  <thead>\n",
       "    <tr style=\"text-align: right;\">\n",
       "      <th></th>\n",
       "      <th>course_name</th>\n",
       "      <th>duration</th>\n",
       "    </tr>\n",
       "  </thead>\n",
       "  <tbody>\n",
       "    <tr>\n",
       "      <th>1</th>\n",
       "      <td>Machine Learning</td>\n",
       "      <td>3</td>\n",
       "    </tr>\n",
       "  </tbody>\n",
       "</table>\n",
       "</div>"
      ],
      "text/plain": [
       "        course_name  duration\n",
       "1  Machine Learning         3"
      ]
     },
     "execution_count": 16,
     "metadata": {},
     "output_type": "execute_result"
    }
   ],
   "source": [
    "df[1:2]"
   ]
  },
  {
   "cell_type": "code",
   "execution_count": 18,
   "id": "4a58c7be-367f-4579-9514-8cc1efdd90ec",
   "metadata": {},
   "outputs": [
    {
     "data": {
      "text/html": [
       "<div>\n",
       "<style scoped>\n",
       "    .dataframe tbody tr th:only-of-type {\n",
       "        vertical-align: middle;\n",
       "    }\n",
       "\n",
       "    .dataframe tbody tr th {\n",
       "        vertical-align: top;\n",
       "    }\n",
       "\n",
       "    .dataframe thead th {\n",
       "        text-align: right;\n",
       "    }\n",
       "</style>\n",
       "<table border=\"1\" class=\"dataframe\">\n",
       "  <thead>\n",
       "    <tr style=\"text-align: right;\">\n",
       "      <th></th>\n",
       "      <th>course_name</th>\n",
       "      <th>duration</th>\n",
       "    </tr>\n",
       "  </thead>\n",
       "  <tbody>\n",
       "    <tr>\n",
       "      <th>0</th>\n",
       "      <td>Data Science</td>\n",
       "      <td>2</td>\n",
       "    </tr>\n",
       "    <tr>\n",
       "      <th>1</th>\n",
       "      <td>Machine Learning</td>\n",
       "      <td>3</td>\n",
       "    </tr>\n",
       "    <tr>\n",
       "      <th>2</th>\n",
       "      <td>Big Data</td>\n",
       "      <td>6</td>\n",
       "    </tr>\n",
       "    <tr>\n",
       "      <th>3</th>\n",
       "      <td>Data Engineer</td>\n",
       "      <td>4</td>\n",
       "    </tr>\n",
       "  </tbody>\n",
       "</table>\n",
       "</div>"
      ],
      "text/plain": [
       "        course_name  duration\n",
       "0      Data Science         2\n",
       "1  Machine Learning         3\n",
       "2          Big Data         6\n",
       "3     Data Engineer         4"
      ]
     },
     "execution_count": 18,
     "metadata": {},
     "output_type": "execute_result"
    }
   ],
   "source": [
    "df"
   ]
  },
  {
   "cell_type": "code",
   "execution_count": 8,
   "id": "f22dca97-9299-4fe8-a32a-cfe241542d16",
   "metadata": {},
   "outputs": [],
   "source": [
    "#Q2. What is the difference between the functions loc and iloc in pandas.DataFrame?"
   ]
  },
  {
   "cell_type": "code",
   "execution_count": 9,
   "id": "3f86c412-1892-4d4b-8f7c-f0c012cf4b40",
   "metadata": {},
   "outputs": [],
   "source": [
    "#loc->loc is label-based indexing. It is used for selecting data based on the labels of rows and columns.\n",
    "#It takes two single or a range of labels, where the range is inclusive at both ends."
   ]
  },
  {
   "cell_type": "code",
   "execution_count": 10,
   "id": "73d325fc-9540-42c1-af1e-aa433624f427",
   "metadata": {},
   "outputs": [],
   "source": [
    "#iloc->iloc is integer-location based indexing. It is used for selecting data based on the integer position of rows and columns."
   ]
  },
  {
   "cell_type": "code",
   "execution_count": 35,
   "id": "0fcdbf0d-8ae9-4806-b8af-699771304e97",
   "metadata": {},
   "outputs": [
    {
     "name": "stdout",
     "output_type": "stream",
     "text": [
      "2\n",
      "2\n"
     ]
    }
   ],
   "source": [
    "import pandas as pd\n",
    "\n",
    "# Creating a sample DataFrame\n",
    "data = {'A': [1, 2, 3], 'B': [4, 5, 6]}\n",
    "df = pd.DataFrame(data, index=['row1', 'row2', 'row3'])\n",
    "\n",
    "# Using loc to select based on labels\n",
    "print(df.loc['row2', 'A'])  # Output: 2\n",
    "\n",
    "# Using iloc to select based on integer positions\n",
    "print(df.iloc[1, 0])  # Output: 2"
   ]
  },
  {
   "cell_type": "code",
   "execution_count": 13,
   "id": "17b56e35-979b-458f-82d8-635646d2907d",
   "metadata": {},
   "outputs": [
    {
     "data": {
      "text/html": [
       "<div>\n",
       "<style scoped>\n",
       "    .dataframe tbody tr th:only-of-type {\n",
       "        vertical-align: middle;\n",
       "    }\n",
       "\n",
       "    .dataframe tbody tr th {\n",
       "        vertical-align: top;\n",
       "    }\n",
       "\n",
       "    .dataframe thead th {\n",
       "        text-align: right;\n",
       "    }\n",
       "</style>\n",
       "<table border=\"1\" class=\"dataframe\">\n",
       "  <thead>\n",
       "    <tr style=\"text-align: right;\">\n",
       "      <th></th>\n",
       "      <th>A</th>\n",
       "      <th>B</th>\n",
       "    </tr>\n",
       "  </thead>\n",
       "  <tbody>\n",
       "    <tr>\n",
       "      <th>row1</th>\n",
       "      <td>1</td>\n",
       "      <td>4</td>\n",
       "    </tr>\n",
       "    <tr>\n",
       "      <th>row2</th>\n",
       "      <td>2</td>\n",
       "      <td>5</td>\n",
       "    </tr>\n",
       "    <tr>\n",
       "      <th>row3</th>\n",
       "      <td>3</td>\n",
       "      <td>6</td>\n",
       "    </tr>\n",
       "  </tbody>\n",
       "</table>\n",
       "</div>"
      ],
      "text/plain": [
       "      A  B\n",
       "row1  1  4\n",
       "row2  2  5\n",
       "row3  3  6"
      ]
     },
     "execution_count": 13,
     "metadata": {},
     "output_type": "execute_result"
    }
   ],
   "source": [
    "df"
   ]
  },
  {
   "cell_type": "code",
   "execution_count": 19,
   "id": "30f893cc-acdb-412b-a9de-c41f201dd036",
   "metadata": {},
   "outputs": [],
   "source": [
    "#Q3. Reindex the given dataframe using a variable, reindex = [3,0,1,2] and store it in the variable, new_df\n",
    "#then find the output for both new_df.loc[2] and new_df.iloc[2]."
   ]
  },
  {
   "cell_type": "code",
   "execution_count": 42,
   "id": "4d9ea8c1-9f36-4a77-b60f-ce3408fc7018",
   "metadata": {},
   "outputs": [
    {
     "data": {
      "text/html": [
       "<div>\n",
       "<style scoped>\n",
       "    .dataframe tbody tr th:only-of-type {\n",
       "        vertical-align: middle;\n",
       "    }\n",
       "\n",
       "    .dataframe tbody tr th {\n",
       "        vertical-align: top;\n",
       "    }\n",
       "\n",
       "    .dataframe thead th {\n",
       "        text-align: right;\n",
       "    }\n",
       "</style>\n",
       "<table border=\"1\" class=\"dataframe\">\n",
       "  <thead>\n",
       "    <tr style=\"text-align: right;\">\n",
       "      <th></th>\n",
       "      <th>course_name</th>\n",
       "      <th>duration</th>\n",
       "    </tr>\n",
       "  </thead>\n",
       "  <tbody>\n",
       "    <tr>\n",
       "      <th>0</th>\n",
       "      <td>Data Science</td>\n",
       "      <td>2</td>\n",
       "    </tr>\n",
       "    <tr>\n",
       "      <th>1</th>\n",
       "      <td>Machine Learning</td>\n",
       "      <td>3</td>\n",
       "    </tr>\n",
       "    <tr>\n",
       "      <th>2</th>\n",
       "      <td>Big Data</td>\n",
       "      <td>6</td>\n",
       "    </tr>\n",
       "    <tr>\n",
       "      <th>3</th>\n",
       "      <td>Data Engineer</td>\n",
       "      <td>4</td>\n",
       "    </tr>\n",
       "  </tbody>\n",
       "</table>\n",
       "</div>"
      ],
      "text/plain": [
       "        course_name  duration\n",
       "0      Data Science         2\n",
       "1  Machine Learning         3\n",
       "2          Big Data         6\n",
       "3     Data Engineer         4"
      ]
     },
     "execution_count": 42,
     "metadata": {},
     "output_type": "execute_result"
    }
   ],
   "source": [
    "import pandas as pd\n",
    "course_name = ['Data Science', 'Machine Learning', 'Big Data', 'Data Engineer']\n",
    "duration = [2,3,6,4]\n",
    "df = pd.DataFrame(data = {'course_name' : course_name, 'duration' : duration})\n",
    "df"
   ]
  },
  {
   "cell_type": "code",
   "execution_count": 43,
   "id": "831a2e47-327b-45e1-9ec6-c2ca0401fa19",
   "metadata": {},
   "outputs": [
    {
     "data": {
      "text/html": [
       "<div>\n",
       "<style scoped>\n",
       "    .dataframe tbody tr th:only-of-type {\n",
       "        vertical-align: middle;\n",
       "    }\n",
       "\n",
       "    .dataframe tbody tr th {\n",
       "        vertical-align: top;\n",
       "    }\n",
       "\n",
       "    .dataframe thead th {\n",
       "        text-align: right;\n",
       "    }\n",
       "</style>\n",
       "<table border=\"1\" class=\"dataframe\">\n",
       "  <thead>\n",
       "    <tr style=\"text-align: right;\">\n",
       "      <th></th>\n",
       "      <th>course_name</th>\n",
       "      <th>duration</th>\n",
       "    </tr>\n",
       "  </thead>\n",
       "  <tbody>\n",
       "    <tr>\n",
       "      <th>3</th>\n",
       "      <td>Data Engineer</td>\n",
       "      <td>4</td>\n",
       "    </tr>\n",
       "    <tr>\n",
       "      <th>0</th>\n",
       "      <td>Data Science</td>\n",
       "      <td>2</td>\n",
       "    </tr>\n",
       "    <tr>\n",
       "      <th>1</th>\n",
       "      <td>Machine Learning</td>\n",
       "      <td>3</td>\n",
       "    </tr>\n",
       "    <tr>\n",
       "      <th>2</th>\n",
       "      <td>Big Data</td>\n",
       "      <td>6</td>\n",
       "    </tr>\n",
       "  </tbody>\n",
       "</table>\n",
       "</div>"
      ],
      "text/plain": [
       "        course_name  duration\n",
       "3     Data Engineer         4\n",
       "0      Data Science         2\n",
       "1  Machine Learning         3\n",
       "2          Big Data         6"
      ]
     },
     "execution_count": 43,
     "metadata": {},
     "output_type": "execute_result"
    }
   ],
   "source": [
    "reindex_order = [3, 0, 1, 2]\n",
    "new_df = df.reindex(reindex_order)\n",
    "new_df"
   ]
  },
  {
   "cell_type": "code",
   "execution_count": 44,
   "id": "12fe187b-46d3-4d3d-96f9-6895d6e3f12f",
   "metadata": {},
   "outputs": [
    {
     "data": {
      "text/plain": [
       "course_name    Big Data\n",
       "duration              6\n",
       "Name: 2, dtype: object"
      ]
     },
     "execution_count": 44,
     "metadata": {},
     "output_type": "execute_result"
    }
   ],
   "source": [
    "new_df.loc[2]"
   ]
  },
  {
   "cell_type": "code",
   "execution_count": 45,
   "id": "9a8f5689-9d9f-42d4-bbbd-a9fe1a48f6e2",
   "metadata": {},
   "outputs": [],
   "source": [
    "#new_df.loc[2]->it gives the row data of row_named 2 and its whole data"
   ]
  },
  {
   "cell_type": "code",
   "execution_count": 46,
   "id": "8cfa20eb-f79b-41da-ba0f-e9cd2988716b",
   "metadata": {},
   "outputs": [
    {
     "data": {
      "text/plain": [
       "course_name    Machine Learning\n",
       "duration                      3\n",
       "Name: 1, dtype: object"
      ]
     },
     "execution_count": 46,
     "metadata": {},
     "output_type": "execute_result"
    }
   ],
   "source": [
    "new_df.iloc[2]"
   ]
  },
  {
   "cell_type": "code",
   "execution_count": 41,
   "id": "b9996c4e-9159-44ff-a8a4-d86210fcd342",
   "metadata": {},
   "outputs": [],
   "source": [
    "#new_df.iloc[2]->it gives third row data"
   ]
  },
  {
   "cell_type": "code",
   "execution_count": 47,
   "id": "3bf36f73-2c5c-42a2-9ec6-fcd234bbf8f1",
   "metadata": {},
   "outputs": [],
   "source": [
    "#Q4. Write a code to find the following statistical measurements for the above dataframe df1:\n",
    "#(i) mean of each and every column present in the dataframe.\n",
    "#(ii) standard deviation of column, ‘column_2’"
   ]
  },
  {
   "cell_type": "code",
   "execution_count": 1,
   "id": "0f3ee3b9-87a7-4797-978b-199bb7b8aa4c",
   "metadata": {},
   "outputs": [],
   "source": [
    "import pandas as pd\n",
    "import numpy as np\n",
    "columns = ['column_1', 'column_2', 'column_3', 'column_4', 'column_5', 'column_6']\n",
    "indices = [1,2,3,4,5,6]\n",
    "#Creating a dataframe:\n",
    "df1 = pd.DataFrame(np.random.rand(6,6), columns = columns, index = indices)"
   ]
  },
  {
   "cell_type": "code",
   "execution_count": 2,
   "id": "29426a46-7d2b-40c4-afea-f06be7902961",
   "metadata": {},
   "outputs": [
    {
     "data": {
      "text/html": [
       "<div>\n",
       "<style scoped>\n",
       "    .dataframe tbody tr th:only-of-type {\n",
       "        vertical-align: middle;\n",
       "    }\n",
       "\n",
       "    .dataframe tbody tr th {\n",
       "        vertical-align: top;\n",
       "    }\n",
       "\n",
       "    .dataframe thead th {\n",
       "        text-align: right;\n",
       "    }\n",
       "</style>\n",
       "<table border=\"1\" class=\"dataframe\">\n",
       "  <thead>\n",
       "    <tr style=\"text-align: right;\">\n",
       "      <th></th>\n",
       "      <th>column_1</th>\n",
       "      <th>column_2</th>\n",
       "      <th>column_3</th>\n",
       "      <th>column_4</th>\n",
       "      <th>column_5</th>\n",
       "      <th>column_6</th>\n",
       "    </tr>\n",
       "  </thead>\n",
       "  <tbody>\n",
       "    <tr>\n",
       "      <th>1</th>\n",
       "      <td>0.813624</td>\n",
       "      <td>0.465910</td>\n",
       "      <td>0.782497</td>\n",
       "      <td>0.130236</td>\n",
       "      <td>0.251915</td>\n",
       "      <td>0.037119</td>\n",
       "    </tr>\n",
       "    <tr>\n",
       "      <th>2</th>\n",
       "      <td>0.911650</td>\n",
       "      <td>0.161098</td>\n",
       "      <td>0.935888</td>\n",
       "      <td>0.796371</td>\n",
       "      <td>0.297933</td>\n",
       "      <td>0.061866</td>\n",
       "    </tr>\n",
       "    <tr>\n",
       "      <th>3</th>\n",
       "      <td>0.564277</td>\n",
       "      <td>0.253176</td>\n",
       "      <td>0.320349</td>\n",
       "      <td>0.610119</td>\n",
       "      <td>0.334626</td>\n",
       "      <td>0.695542</td>\n",
       "    </tr>\n",
       "    <tr>\n",
       "      <th>4</th>\n",
       "      <td>0.102112</td>\n",
       "      <td>0.853260</td>\n",
       "      <td>0.934661</td>\n",
       "      <td>0.482269</td>\n",
       "      <td>0.510548</td>\n",
       "      <td>0.619706</td>\n",
       "    </tr>\n",
       "    <tr>\n",
       "      <th>5</th>\n",
       "      <td>0.902245</td>\n",
       "      <td>0.497359</td>\n",
       "      <td>0.926226</td>\n",
       "      <td>0.601194</td>\n",
       "      <td>0.632894</td>\n",
       "      <td>0.699846</td>\n",
       "    </tr>\n",
       "    <tr>\n",
       "      <th>6</th>\n",
       "      <td>0.194881</td>\n",
       "      <td>0.212626</td>\n",
       "      <td>0.527735</td>\n",
       "      <td>0.668713</td>\n",
       "      <td>0.854286</td>\n",
       "      <td>0.558445</td>\n",
       "    </tr>\n",
       "  </tbody>\n",
       "</table>\n",
       "</div>"
      ],
      "text/plain": [
       "   column_1  column_2  column_3  column_4  column_5  column_6\n",
       "1  0.813624  0.465910  0.782497  0.130236  0.251915  0.037119\n",
       "2  0.911650  0.161098  0.935888  0.796371  0.297933  0.061866\n",
       "3  0.564277  0.253176  0.320349  0.610119  0.334626  0.695542\n",
       "4  0.102112  0.853260  0.934661  0.482269  0.510548  0.619706\n",
       "5  0.902245  0.497359  0.926226  0.601194  0.632894  0.699846\n",
       "6  0.194881  0.212626  0.527735  0.668713  0.854286  0.558445"
      ]
     },
     "execution_count": 2,
     "metadata": {},
     "output_type": "execute_result"
    }
   ],
   "source": [
    "df1"
   ]
  },
  {
   "cell_type": "code",
   "execution_count": 4,
   "id": "3f2a6b3f-0b43-4923-8634-e263e63e2f37",
   "metadata": {},
   "outputs": [
    {
     "data": {
      "text/plain": [
       "0.5814648894622577"
      ]
     },
     "execution_count": 4,
     "metadata": {},
     "output_type": "execute_result"
    }
   ],
   "source": [
    "df1['column_1'].mean()"
   ]
  },
  {
   "cell_type": "code",
   "execution_count": 5,
   "id": "9920bf15-a46d-4b15-af86-074d0d9243d5",
   "metadata": {},
   "outputs": [
    {
     "data": {
      "text/plain": [
       "0.40723820071665395"
      ]
     },
     "execution_count": 5,
     "metadata": {},
     "output_type": "execute_result"
    }
   ],
   "source": [
    "df1['column_2'].mean()"
   ]
  },
  {
   "cell_type": "code",
   "execution_count": 6,
   "id": "29a357c1-79d3-45c0-947f-3a3ec836a4dd",
   "metadata": {},
   "outputs": [
    {
     "data": {
      "text/plain": [
       "0.7378927148318138"
      ]
     },
     "execution_count": 6,
     "metadata": {},
     "output_type": "execute_result"
    }
   ],
   "source": [
    "df1['column_3'].mean()"
   ]
  },
  {
   "cell_type": "code",
   "execution_count": 7,
   "id": "13993aae-aee1-4328-a559-322d620733bb",
   "metadata": {},
   "outputs": [
    {
     "data": {
      "text/plain": [
       "0.5481504386145727"
      ]
     },
     "execution_count": 7,
     "metadata": {},
     "output_type": "execute_result"
    }
   ],
   "source": [
    "df1['column_4'].mean()"
   ]
  },
  {
   "cell_type": "code",
   "execution_count": 8,
   "id": "ae28b712-1b8e-40f5-804a-fe2e489378a2",
   "metadata": {},
   "outputs": [
    {
     "data": {
      "text/plain": [
       "0.48036717603507545"
      ]
     },
     "execution_count": 8,
     "metadata": {},
     "output_type": "execute_result"
    }
   ],
   "source": [
    "df1['column_5'].mean()"
   ]
  },
  {
   "cell_type": "code",
   "execution_count": 9,
   "id": "0e64d2c7-0b5c-490c-89a0-53c89bb110a2",
   "metadata": {},
   "outputs": [
    {
     "data": {
      "text/plain": [
       "0.4454206627260464"
      ]
     },
     "execution_count": 9,
     "metadata": {},
     "output_type": "execute_result"
    }
   ],
   "source": [
    "df1['column_6'].mean()"
   ]
  },
  {
   "cell_type": "code",
   "execution_count": 10,
   "id": "6b2c785b-67e0-44f6-8957-3736ab43c332",
   "metadata": {},
   "outputs": [
    {
     "data": {
      "text/plain": [
       "0.35926062224422445"
      ]
     },
     "execution_count": 10,
     "metadata": {},
     "output_type": "execute_result"
    }
   ],
   "source": [
    "df1['column_1'].std()"
   ]
  },
  {
   "cell_type": "code",
   "execution_count": 11,
   "id": "2a123393-5f32-41f4-b677-f110bcf1e9e2",
   "metadata": {},
   "outputs": [
    {
     "data": {
      "text/plain": [
       "0.2579510540031364"
      ]
     },
     "execution_count": 11,
     "metadata": {},
     "output_type": "execute_result"
    }
   ],
   "source": [
    "df1['column_2'].std()"
   ]
  },
  {
   "cell_type": "code",
   "execution_count": 12,
   "id": "f1725f29-8549-4aad-90aa-95570ab243ee",
   "metadata": {},
   "outputs": [],
   "source": [
    "#Q5. Replace the data present in the second row of column, ‘column_2’ by a string variable then find the\n",
    "#mean of column, column_2.\n",
    "#If you are getting errors in executing it then explain why.\n",
    "#[Hint: To replace the data use df1.loc[] and equate this to string data of your choice.]"
   ]
  },
  {
   "cell_type": "code",
   "execution_count": 15,
   "id": "6b90837c-bf15-435f-9a70-46365c234f35",
   "metadata": {},
   "outputs": [],
   "source": [
    "df1.loc[2,'column_1']= 'er'"
   ]
  },
  {
   "cell_type": "code",
   "execution_count": 16,
   "id": "ba15b240-ff57-4559-ae27-cbcca8284f81",
   "metadata": {},
   "outputs": [
    {
     "data": {
      "text/html": [
       "<div>\n",
       "<style scoped>\n",
       "    .dataframe tbody tr th:only-of-type {\n",
       "        vertical-align: middle;\n",
       "    }\n",
       "\n",
       "    .dataframe tbody tr th {\n",
       "        vertical-align: top;\n",
       "    }\n",
       "\n",
       "    .dataframe thead th {\n",
       "        text-align: right;\n",
       "    }\n",
       "</style>\n",
       "<table border=\"1\" class=\"dataframe\">\n",
       "  <thead>\n",
       "    <tr style=\"text-align: right;\">\n",
       "      <th></th>\n",
       "      <th>column_1</th>\n",
       "      <th>column_2</th>\n",
       "      <th>column_3</th>\n",
       "      <th>column_4</th>\n",
       "      <th>column_5</th>\n",
       "      <th>column_6</th>\n",
       "    </tr>\n",
       "  </thead>\n",
       "  <tbody>\n",
       "    <tr>\n",
       "      <th>1</th>\n",
       "      <td>0.813624</td>\n",
       "      <td>0.465910</td>\n",
       "      <td>0.782497</td>\n",
       "      <td>0.130236</td>\n",
       "      <td>0.251915</td>\n",
       "      <td>0.037119</td>\n",
       "    </tr>\n",
       "    <tr>\n",
       "      <th>2</th>\n",
       "      <td>er</td>\n",
       "      <td>0.161098</td>\n",
       "      <td>0.935888</td>\n",
       "      <td>0.796371</td>\n",
       "      <td>0.297933</td>\n",
       "      <td>0.061866</td>\n",
       "    </tr>\n",
       "    <tr>\n",
       "      <th>3</th>\n",
       "      <td>0.564277</td>\n",
       "      <td>0.253176</td>\n",
       "      <td>0.320349</td>\n",
       "      <td>0.610119</td>\n",
       "      <td>0.334626</td>\n",
       "      <td>0.695542</td>\n",
       "    </tr>\n",
       "    <tr>\n",
       "      <th>4</th>\n",
       "      <td>0.102112</td>\n",
       "      <td>0.853260</td>\n",
       "      <td>0.934661</td>\n",
       "      <td>0.482269</td>\n",
       "      <td>0.510548</td>\n",
       "      <td>0.619706</td>\n",
       "    </tr>\n",
       "    <tr>\n",
       "      <th>5</th>\n",
       "      <td>0.902245</td>\n",
       "      <td>0.497359</td>\n",
       "      <td>0.926226</td>\n",
       "      <td>0.601194</td>\n",
       "      <td>0.632894</td>\n",
       "      <td>0.699846</td>\n",
       "    </tr>\n",
       "    <tr>\n",
       "      <th>6</th>\n",
       "      <td>0.194881</td>\n",
       "      <td>0.212626</td>\n",
       "      <td>0.527735</td>\n",
       "      <td>0.668713</td>\n",
       "      <td>0.854286</td>\n",
       "      <td>0.558445</td>\n",
       "    </tr>\n",
       "  </tbody>\n",
       "</table>\n",
       "</div>"
      ],
      "text/plain": [
       "   column_1  column_2  column_3  column_4  column_5  column_6\n",
       "1  0.813624  0.465910  0.782497  0.130236  0.251915  0.037119\n",
       "2        er  0.161098  0.935888  0.796371  0.297933  0.061866\n",
       "3  0.564277  0.253176  0.320349  0.610119  0.334626  0.695542\n",
       "4  0.102112  0.853260  0.934661  0.482269  0.510548  0.619706\n",
       "5  0.902245  0.497359  0.926226  0.601194  0.632894  0.699846\n",
       "6  0.194881  0.212626  0.527735  0.668713  0.854286  0.558445"
      ]
     },
     "execution_count": 16,
     "metadata": {},
     "output_type": "execute_result"
    }
   ],
   "source": [
    "df1"
   ]
  },
  {
   "cell_type": "code",
   "execution_count": 17,
   "id": "43cf6b85-df18-42f3-8c24-ed3776d0389e",
   "metadata": {},
   "outputs": [],
   "source": [
    "df1.loc[2,'column_2']= 'er2'"
   ]
  },
  {
   "cell_type": "code",
   "execution_count": 18,
   "id": "0dec0df5-2d86-4f5c-a291-1aafcbc181b6",
   "metadata": {},
   "outputs": [
    {
     "data": {
      "text/html": [
       "<div>\n",
       "<style scoped>\n",
       "    .dataframe tbody tr th:only-of-type {\n",
       "        vertical-align: middle;\n",
       "    }\n",
       "\n",
       "    .dataframe tbody tr th {\n",
       "        vertical-align: top;\n",
       "    }\n",
       "\n",
       "    .dataframe thead th {\n",
       "        text-align: right;\n",
       "    }\n",
       "</style>\n",
       "<table border=\"1\" class=\"dataframe\">\n",
       "  <thead>\n",
       "    <tr style=\"text-align: right;\">\n",
       "      <th></th>\n",
       "      <th>column_1</th>\n",
       "      <th>column_2</th>\n",
       "      <th>column_3</th>\n",
       "      <th>column_4</th>\n",
       "      <th>column_5</th>\n",
       "      <th>column_6</th>\n",
       "    </tr>\n",
       "  </thead>\n",
       "  <tbody>\n",
       "    <tr>\n",
       "      <th>1</th>\n",
       "      <td>0.813624</td>\n",
       "      <td>0.46591</td>\n",
       "      <td>0.782497</td>\n",
       "      <td>0.130236</td>\n",
       "      <td>0.251915</td>\n",
       "      <td>0.037119</td>\n",
       "    </tr>\n",
       "    <tr>\n",
       "      <th>2</th>\n",
       "      <td>er</td>\n",
       "      <td>er2</td>\n",
       "      <td>0.935888</td>\n",
       "      <td>0.796371</td>\n",
       "      <td>0.297933</td>\n",
       "      <td>0.061866</td>\n",
       "    </tr>\n",
       "    <tr>\n",
       "      <th>3</th>\n",
       "      <td>0.564277</td>\n",
       "      <td>0.253176</td>\n",
       "      <td>0.320349</td>\n",
       "      <td>0.610119</td>\n",
       "      <td>0.334626</td>\n",
       "      <td>0.695542</td>\n",
       "    </tr>\n",
       "    <tr>\n",
       "      <th>4</th>\n",
       "      <td>0.102112</td>\n",
       "      <td>0.85326</td>\n",
       "      <td>0.934661</td>\n",
       "      <td>0.482269</td>\n",
       "      <td>0.510548</td>\n",
       "      <td>0.619706</td>\n",
       "    </tr>\n",
       "    <tr>\n",
       "      <th>5</th>\n",
       "      <td>0.902245</td>\n",
       "      <td>0.497359</td>\n",
       "      <td>0.926226</td>\n",
       "      <td>0.601194</td>\n",
       "      <td>0.632894</td>\n",
       "      <td>0.699846</td>\n",
       "    </tr>\n",
       "    <tr>\n",
       "      <th>6</th>\n",
       "      <td>0.194881</td>\n",
       "      <td>0.212626</td>\n",
       "      <td>0.527735</td>\n",
       "      <td>0.668713</td>\n",
       "      <td>0.854286</td>\n",
       "      <td>0.558445</td>\n",
       "    </tr>\n",
       "  </tbody>\n",
       "</table>\n",
       "</div>"
      ],
      "text/plain": [
       "   column_1  column_2  column_3  column_4  column_5  column_6\n",
       "1  0.813624   0.46591  0.782497  0.130236  0.251915  0.037119\n",
       "2        er       er2  0.935888  0.796371  0.297933  0.061866\n",
       "3  0.564277  0.253176  0.320349  0.610119  0.334626  0.695542\n",
       "4  0.102112   0.85326  0.934661  0.482269  0.510548  0.619706\n",
       "5  0.902245  0.497359  0.926226  0.601194  0.632894  0.699846\n",
       "6  0.194881  0.212626  0.527735  0.668713  0.854286  0.558445"
      ]
     },
     "execution_count": 18,
     "metadata": {},
     "output_type": "execute_result"
    }
   ],
   "source": [
    "df1"
   ]
  },
  {
   "cell_type": "code",
   "execution_count": 19,
   "id": "a7d1182d-559b-46ea-ae99-9dfa9e7a32f2",
   "metadata": {},
   "outputs": [],
   "source": [
    "#Q6. What do you understand about the windows function in pandas and list the types of windows\n",
    "#functions?"
   ]
  },
  {
   "cell_type": "code",
   "execution_count": 1,
   "id": "994d3585-df52-4278-8624-b60ce4cf8f78",
   "metadata": {},
   "outputs": [
    {
     "data": {
      "text/plain": [
       "'These functions are particularly useful for time-series data and can be used to perform various calculations on a moving or expanding set of values.'"
      ]
     },
     "execution_count": 1,
     "metadata": {},
     "output_type": "execute_result"
    }
   ],
   "source": [
    "'''These functions are particularly useful for time-series data and can be used to perform various calculations on a moving or expanding set of values.'''"
   ]
  },
  {
   "cell_type": "code",
   "execution_count": 2,
   "id": "b9f0eaad-faa1-4bd8-8f52-555d087039de",
   "metadata": {},
   "outputs": [
    {
     "data": {
      "text/plain": [
       "'rolling() function: It is used for windowed calculations based on a fixed-size window of data.'"
      ]
     },
     "execution_count": 2,
     "metadata": {},
     "output_type": "execute_result"
    }
   ],
   "source": [
    "'''rolling() function: It is used for windowed calculations based on a fixed-size window of data.'''"
   ]
  },
  {
   "cell_type": "code",
   "execution_count": 3,
   "id": "ddab55c6-6c19-4b31-a794-095c31da76c3",
   "metadata": {},
   "outputs": [
    {
     "data": {
      "text/plain": [
       "'expanding() function: It is used for calculations on all the data points available up to that point in time.'"
      ]
     },
     "execution_count": 3,
     "metadata": {},
     "output_type": "execute_result"
    }
   ],
   "source": [
    "'''expanding() function: It is used for calculations on all the data points available up to that point in time.'''"
   ]
  },
  {
   "cell_type": "code",
   "execution_count": 4,
   "id": "389f09e2-a5a1-41ee-afda-4de52e45ffc8",
   "metadata": {},
   "outputs": [],
   "source": [
    "#Q7. Write a code to print only the current month and year at the time of answering this question.\n",
    "#[Hint: Use pandas.datetime function]"
   ]
  },
  {
   "cell_type": "code",
   "execution_count": 5,
   "id": "df85b232-8aaa-4aa0-8919-653b886e50c5",
   "metadata": {},
   "outputs": [
    {
     "name": "stdout",
     "output_type": "stream",
     "text": [
      "Current Month: 11\n",
      "Current Year: 2023\n"
     ]
    }
   ],
   "source": [
    "import pandas as pd\n",
    "from datetime import datetime\n",
    "\n",
    "# Get the current date\n",
    "current_date = datetime.now()\n",
    "\n",
    "# Create a Pandas datetime object\n",
    "current_date_pd = pd.to_datetime(current_date)\n",
    "\n",
    "# Extract the month and year\n",
    "current_month = current_date_pd.month\n",
    "current_year = current_date_pd.year\n",
    "\n",
    "# Print the results\n",
    "print(f\"Current Month: {current_month}\")\n",
    "print(f\"Current Year: {current_year}\")"
   ]
  },
  {
   "cell_type": "code",
   "execution_count": 6,
   "id": "3282f6ff-f76a-4809-a25c-f7249217a334",
   "metadata": {},
   "outputs": [],
   "source": [
    "#Q8. Write a Python program that takes in two dates as input (in the format YYYY-MM-DD) and\n",
    "#calculates the difference between them in days, hours, and minutes using Pandas time delta. The\n",
    "#program should prompt the user to enter the dates and display the result."
   ]
  },
  {
   "cell_type": "code",
   "execution_count": 7,
   "id": "5f467689-1a12-4b45-8ed7-7b072f3f1816",
   "metadata": {},
   "outputs": [
    {
     "name": "stdin",
     "output_type": "stream",
     "text": [
      "Enter the start date (YYYY-MM-DD):  2023-09-01\n",
      "Enter the end date (YYYY-MM-DD):  2023-10-01\n"
     ]
    },
    {
     "name": "stdout",
     "output_type": "stream",
     "text": [
      "\n",
      "Time Difference:\n",
      "Days: 30 days\n",
      "Hours: 0 hours\n",
      "Minutes: 0 minutes\n"
     ]
    }
   ],
   "source": [
    "import pandas as pd\n",
    "\n",
    "# Function to calculate the time difference\n",
    "def calculate_time_difference(start_date, end_date):\n",
    "    # Convert input strings to Pandas datetime objects\n",
    "    start_date = pd.to_datetime(start_date)\n",
    "    end_date = pd.to_datetime(end_date)\n",
    "\n",
    "    # Calculate the time difference\n",
    "    time_difference = end_date - start_date\n",
    "\n",
    "    # Extract days, hours, and minutes\n",
    "    days = time_difference.days\n",
    "    hours, remainder = divmod(time_difference.seconds, 3600)\n",
    "    minutes, _ = divmod(remainder, 60)\n",
    "\n",
    "    return days, hours, minutes\n",
    "\n",
    "# Get user input for two dates\n",
    "start_date_input = input(\"Enter the start date (YYYY-MM-DD): \")\n",
    "end_date_input = input(\"Enter the end date (YYYY-MM-DD): \")\n",
    "\n",
    "# Calculate time difference\n",
    "days_diff, hours_diff, minutes_diff = calculate_time_difference(start_date_input, end_date_input)\n",
    "\n",
    "# Display the result\n",
    "print(f\"\\nTime Difference:\")\n",
    "print(f\"Days: {days_diff} days\")\n",
    "print(f\"Hours: {hours_diff} hours\")\n",
    "print(f\"Minutes: {minutes_diff} minutes\")"
   ]
  },
  {
   "cell_type": "code",
   "execution_count": 8,
   "id": "48f718a5-599c-47d3-9a3a-0913006c49c5",
   "metadata": {},
   "outputs": [],
   "source": [
    "#Q9. Write a Python program that reads a CSV file containing categorical data and converts a specified\n",
    "#column to a categorical data type. The program should prompt the user to enter the file path, column\n",
    "#name, and category order, and then display the sorted data."
   ]
  },
  {
   "cell_type": "code",
   "execution_count": 20,
   "id": "5a73f50e-0a47-48d3-9249-360238d76767",
   "metadata": {},
   "outputs": [],
   "source": [
    "import pandas as pd\n",
    "import numpy as np\n",
    "\n",
    "# Generating sample categorical data\n",
    "np.random.seed(42)\n",
    "\n",
    "data = {\n",
    "    'Category': np.random.choice(['A', 'B', 'C'], size=20),\n",
    "    'Value': np.random.randint(1, 100, size=20)\n",
    "}\n",
    "\n",
    "df = pd.DataFrame(data)\n",
    "\n",
    "# Save the generated data to a CSV file\n",
    "df.to_csv('categorical_data.csv', index=False)"
   ]
  },
  {
   "cell_type": "code",
   "execution_count": 23,
   "id": "64627e73-a390-486e-969d-07ea5eff79f0",
   "metadata": {},
   "outputs": [
    {
     "name": "stdin",
     "output_type": "stream",
     "text": [
      "Enter the file path for the categorical data CSV file:  categorical_data.csv\n",
      "Enter the name of the column to convert to categorical:  Category\n"
     ]
    },
    {
     "name": "stdout",
     "output_type": "stream",
     "text": [
      "\n",
      "Sorted Data:\n",
      "   Category  Value\n",
      "1         A     60\n",
      "4         A     76\n",
      "5         A     58\n",
      "15        A     15\n",
      "12        A     92\n",
      "19        B     62\n",
      "17        B     62\n",
      "16        B     62\n",
      "7         B     89\n",
      "14        B     80\n",
      "18        B     47\n",
      "13        C     60\n",
      "0         C     64\n",
      "10        C     59\n",
      "8         C     49\n",
      "6         C     22\n",
      "3         C     33\n",
      "2         C     21\n",
      "11        C     42\n",
      "9         C     91\n"
     ]
    }
   ],
   "source": [
    "import pandas as pd\n",
    "\n",
    "# Prompt the user for the file path\n",
    "file_path = input(\"Enter the file path for the categorical data CSV file: \")\n",
    "\n",
    "# Read the CSV file into a DataFrame\n",
    "df = pd.read_csv(file_path)\n",
    "\n",
    "# Prompt the user for the column name to convert\n",
    "column_name = input(\"Enter the name of the column to convert to categorical: \")\n",
    "\n",
    "# Convert the specified column to a categorical data type\n",
    "df[column_name] = pd.Categorical(df[column_name])\n",
    "\n",
    "# Display the sorted data\n",
    "sorted_data = df.sort_values(by=column_name)\n",
    "print(\"\\nSorted Data:\")\n",
    "print(sorted_data)"
   ]
  },
  {
   "cell_type": "code",
   "execution_count": null,
   "id": "29a12b9b-2756-4666-a0c3-159b9dfce52c",
   "metadata": {},
   "outputs": [],
   "source": [
    "#Q10. Write a Python program that reads a CSV file containing sales data for different products and\n",
    "#visualizes the data using a stacked bar chart to show the sales of each product category over time. The\n",
    "#program should prompt the user to enter the file path and display the chart."
   ]
  },
  {
   "cell_type": "code",
   "execution_count": 18,
   "id": "1fd31961-4732-4ca4-a122-a7b32a4b34e6",
   "metadata": {},
   "outputs": [],
   "source": [
    "import pandas as pd\n",
    "import numpy as np\n",
    "import matplotlib.pyplot as plt\n",
    "\n",
    "# Generating sample sales data\n",
    "np.random.seed(42)\n",
    "\n",
    "products = ['Product A', 'Product B', 'Product C', 'Product D']\n",
    "months = pd.date_range(start='2023-01-01', periods=6, freq='M')\n",
    "\n",
    "data = {\n",
    "    'Month': np.repeat(months, len(products)),\n",
    "    'Product': np.tile(products, len(months)),\n",
    "    'Sales': np.random.randint(10, 100, size=len(months) * len(products))\n",
    "}\n",
    "\n",
    "df = pd.DataFrame(data)\n",
    "\n",
    "# Save the generated data to a CSV file\n",
    "df.to_csv('sales_data.csv', index=False)"
   ]
  },
  {
   "cell_type": "code",
   "execution_count": 19,
   "id": "1b7642f2-a8c2-4bcf-8d3a-c51071981569",
   "metadata": {},
   "outputs": [
    {
     "name": "stdin",
     "output_type": "stream",
     "text": [
      "Enter the file path for the sales data CSV file:  sales_data.csv\n"
     ]
    },
    {
     "data": {
      "image/png": "[encoded data removed]",
      "text/plain": [
       "<Figure size 1000x600 with 1 Axes>"
      ]
     },
     "metadata": {},
     "output_type": "display_data"
    }
   ],
   "source": [
    "import pandas as pd\n",
    "import matplotlib.pyplot as plt\n",
    "\n",
    "# Prompt the user for the file path\n",
    "file_path = input(\"Enter the file path for the sales data CSV file: \")\n",
    "\n",
    "# Read the CSV file into a DataFrame\n",
    "df = pd.read_csv(file_path)\n",
    "\n",
    "# Pivot the DataFrame for stacked bar chart\n",
    "pivot_df = df.pivot(index='Month', columns='Product', values='Sales')\n",
    "\n",
    "# Create a stacked bar chart\n",
    "pivot_df.plot(kind='bar', stacked=True, figsize=(10, 6))\n",
    "plt.title('Sales of Each Product Category Over Time')\n",
    "plt.xlabel('Month')\n",
    "plt.ylabel('Sales')\n",
    "plt.legend(title='Product')\n",
    "plt.show()"
   ]
  },
  {
   "cell_type": "code",
   "execution_count": 11,
   "id": "78b66eb5-6b80-4f90-a7c7-a44c7097fbd3",
   "metadata": {},
   "outputs": [],
   "source": [
    "#Q11. You are given a CSV file containing student data that includes the student ID and their test score. Write\n",
    "#a Python program that reads the CSV file, calculates the mean, median, and mode of the test scores, and\n",
    "#displays the results in a table."
   ]
  },
  {
   "cell_type": "code",
   "execution_count": 12,
   "id": "bf6a62b9-2456-4e4b-87a7-b6565ef04dad",
   "metadata": {},
   "outputs": [],
   "source": [
    "data={'student_id':[1,2,3,4,5,6,7,8,9,10],'test1_score':[85,90,80,75,85,82,78,85,90,85]}"
   ]
  },
  {
   "cell_type": "code",
   "execution_count": 13,
   "id": "e133b005-223c-4012-ad7d-a9b1644e2633",
   "metadata": {},
   "outputs": [],
   "source": [
    "df=pd.DataFrame(data)"
   ]
  },
  {
   "cell_type": "code",
   "execution_count": 14,
   "id": "5dfaf91d-da67-41bc-b0fc-4051a0bcf157",
   "metadata": {},
   "outputs": [
    {
     "data": {
      "text/html": [
       "<div>\n",
       "<style scoped>\n",
       "    .dataframe tbody tr th:only-of-type {\n",
       "        vertical-align: middle;\n",
       "    }\n",
       "\n",
       "    .dataframe tbody tr th {\n",
       "        vertical-align: top;\n",
       "    }\n",
       "\n",
       "    .dataframe thead th {\n",
       "        text-align: right;\n",
       "    }\n",
       "</style>\n",
       "<table border=\"1\" class=\"dataframe\">\n",
       "  <thead>\n",
       "    <tr style=\"text-align: right;\">\n",
       "      <th></th>\n",
       "      <th>student_id</th>\n",
       "      <th>test1_score</th>\n",
       "    </tr>\n",
       "  </thead>\n",
       "  <tbody>\n",
       "    <tr>\n",
       "      <th>0</th>\n",
       "      <td>1</td>\n",
       "      <td>85</td>\n",
       "    </tr>\n",
       "    <tr>\n",
       "      <th>1</th>\n",
       "      <td>2</td>\n",
       "      <td>90</td>\n",
       "    </tr>\n",
       "    <tr>\n",
       "      <th>2</th>\n",
       "      <td>3</td>\n",
       "      <td>80</td>\n",
       "    </tr>\n",
       "    <tr>\n",
       "      <th>3</th>\n",
       "      <td>4</td>\n",
       "      <td>75</td>\n",
       "    </tr>\n",
       "    <tr>\n",
       "      <th>4</th>\n",
       "      <td>5</td>\n",
       "      <td>85</td>\n",
       "    </tr>\n",
       "    <tr>\n",
       "      <th>5</th>\n",
       "      <td>6</td>\n",
       "      <td>82</td>\n",
       "    </tr>\n",
       "    <tr>\n",
       "      <th>6</th>\n",
       "      <td>7</td>\n",
       "      <td>78</td>\n",
       "    </tr>\n",
       "    <tr>\n",
       "      <th>7</th>\n",
       "      <td>8</td>\n",
       "      <td>85</td>\n",
       "    </tr>\n",
       "    <tr>\n",
       "      <th>8</th>\n",
       "      <td>9</td>\n",
       "      <td>90</td>\n",
       "    </tr>\n",
       "    <tr>\n",
       "      <th>9</th>\n",
       "      <td>10</td>\n",
       "      <td>85</td>\n",
       "    </tr>\n",
       "  </tbody>\n",
       "</table>\n",
       "</div>"
      ],
      "text/plain": [
       "   student_id  test1_score\n",
       "0           1           85\n",
       "1           2           90\n",
       "2           3           80\n",
       "3           4           75\n",
       "4           5           85\n",
       "5           6           82\n",
       "6           7           78\n",
       "7           8           85\n",
       "8           9           90\n",
       "9          10           85"
      ]
     },
     "execution_count": 14,
     "metadata": {},
     "output_type": "execute_result"
    }
   ],
   "source": [
    "df"
   ]
  },
  {
   "cell_type": "code",
   "execution_count": 15,
   "id": "eb166b97-42d2-47c3-bd04-b3ac80df64ce",
   "metadata": {},
   "outputs": [],
   "source": [
    "csv_file_path='data.csv'\n",
    "df.to_csv(csv_file_path,index=False)"
   ]
  },
  {
   "cell_type": "code",
   "execution_count": 17,
   "id": "0b4b856f-ffaf-4122-b780-514e4d17ed18",
   "metadata": {},
   "outputs": [
    {
     "name": "stdout",
     "output_type": "stream",
     "text": [
      "   Metric  Score\n",
      "0    Mean   83.5\n",
      "1  Median   85.0\n",
      "2    Mode   85.0\n"
     ]
    }
   ],
   "source": [
    "import pandas as pd\n",
    "\n",
    "# Assuming your CSV file is named 'student_data.csv'\n",
    "file_path = 'data.csv'\n",
    "\n",
    "# Read the CSV file into a DataFrame\n",
    "df = pd.read_csv(file_path)\n",
    "\n",
    "# Calculate mean, median, and mode\n",
    "mean_score = df['test1_score'].mean()\n",
    "median_score = df['test1_score'].median()\n",
    "mode_score = df['test1_score'].mode().values[0]\n",
    "\n",
    "# Display the results in a table\n",
    "result_table = pd.DataFrame({\n",
    "    'Metric': ['Mean', 'Median', 'Mode'],\n",
    "    'Score': [mean_score, median_score, mode_score]\n",
    "})\n",
    "\n",
    "print(result_table)"
   ]
  },
  {
   "cell_type": "code",
   "execution_count": null,
   "id": "d882066c-8c0b-4db2-851e-cef1a827f589",
   "metadata": {},
   "outputs": [],
   "source": []
  }
 ],
 "metadata": {
  "kernelspec": {
   "display_name": "Python 3 (ipykernel)",
   "language": "python",
   "name": "python3"
  },
  "language_info": {
   "codemirror_mode": {
    "name": "ipython",
    "version": 3
   },
   "file_extension": ".py",
   "mimetype": "text/x-python",
   "name": "python",
   "nbconvert_exporter": "python",
   "pygments_lexer": "ipython3",
   "version": "3.10.8"
  }
 },
 "nbformat": 4,
 "nbformat_minor": 5
}
