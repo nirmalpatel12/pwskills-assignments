{
 "cells": [
  {
   "cell_type": "code",
   "execution_count": 5,
   "id": "63aaf01c-15c2-44f2-8289-76b7683ff787",
   "metadata": {},
   "outputs": [],
   "source": [
    "#Q1, Create a vehicle class with an init method having instance variables as name_of_vehicle, max_speed\n",
    "#and average_of_vehicle."
   ]
  },
  {
   "cell_type": "code",
   "execution_count": 2,
   "id": "1b7379f7-259a-4f06-9375-6005d26baee7",
   "metadata": {},
   "outputs": [],
   "source": [
    "class vehicle:\n",
    "    def __init__(self,name,max_speed,average_speed):\n",
    "        self.name_of_vehicle=name\n",
    "        self.max_speed=max_speed\n",
    "        self.average_of_vehicle=average_speed\n",
    "        print(f'{self.name_of_vehicle} has {self.max_speed} max speed and average speed of it is {self.average_of_vehicle}')\n",
    "        "
   ]
  },
  {
   "cell_type": "code",
   "execution_count": 4,
   "id": "e3e733fe-633f-4724-9e6f-c8e521e7c59e",
   "metadata": {},
   "outputs": [
    {
     "name": "stdout",
     "output_type": "stream",
     "text": [
      "honda ct has 150 max speed and average speed of it is 60\n"
     ]
    }
   ],
   "source": [
    "car=vehicle('honda ct',150,60)"
   ]
  },
  {
   "cell_type": "code",
   "execution_count": 7,
   "id": "67e1d8cc-fd2d-410e-b0ef-2bed3f9830e6",
   "metadata": {},
   "outputs": [],
   "source": [
    "#Q2. Create a child class car from the vehicle class created in Que 1, which will inherit the vehicle class.\n",
    "#Create a method named seating_capacity which takes capacity as an argument and returns the name of\n",
    "#the vehicle and its seating capacity."
   ]
  },
  {
   "cell_type": "code",
   "execution_count": 13,
   "id": "5346a6f7-46ce-4203-9b9d-6e0076abb717",
   "metadata": {},
   "outputs": [],
   "source": [
    "class vehicle:\n",
    "    def __init__(self,name,max_speed,average_speed):\n",
    "        self.name_of_vehicle=name\n",
    "        self.max_speed=max_speed\n",
    "        self.average_of_vehicle=average_speed\n",
    "        print(f'{self.name_of_vehicle} has {self.max_speed} max speed and average speed of it is {self.average_of_vehicle}')\n",
    "class car(vehicle):\n",
    "    def seating_capacity(self,capacity):\n",
    "        self.capacity=capacity\n",
    "        print(f'{self.name_of_vehicle} has {self.capacity} members seating capacity.')"
   ]
  },
  {
   "cell_type": "code",
   "execution_count": 14,
   "id": "fa7723f2-747b-4dff-8578-4b714db73e29",
   "metadata": {},
   "outputs": [
    {
     "name": "stdout",
     "output_type": "stream",
     "text": [
      "HONDA CITY has 150 max speed and average speed of it is 60\n",
      "HONDA CITY has 5 members seating capacity.\n"
     ]
    }
   ],
   "source": [
    "obj=car(\"HONDA CITY\",150,60)\n",
    "obj.seating_capacity(5)"
   ]
  },
  {
   "cell_type": "code",
   "execution_count": 15,
   "id": "a55bdd05-5f7f-47a3-b858-11a2e5baf2db",
   "metadata": {},
   "outputs": [],
   "source": [
    "#Q3. What is multiple inheritance? Write a python code to demonstrate multiple inheritance."
   ]
  },
  {
   "cell_type": "code",
   "execution_count": 17,
   "id": "618166f6-98fb-4b0e-83e8-28d40d87ff07",
   "metadata": {},
   "outputs": [],
   "source": [
    "#multiple inheritance-if one class inherit the multiple class is known as multiple inheritance\n",
    "#example-there are three class named cat,dog and lion. if lion inherits cat and dog it is known as multiple inheritance. "
   ]
  },
  {
   "cell_type": "code",
   "execution_count": 18,
   "id": "e0d88aef-49b2-4614-ba42-addf1e73bfef",
   "metadata": {},
   "outputs": [
    {
     "name": "stdout",
     "output_type": "stream",
     "text": [
      "It is a cat.\n",
      "It is a dog.\n",
      "It is a lion\n"
     ]
    }
   ],
   "source": [
    "class cat:\n",
    "    def animal1(self):\n",
    "        print('It is a cat.')\n",
    "\n",
    "class dog:\n",
    "    def animal2(self):\n",
    "        print('It is a dog.')\n",
    "\n",
    "class lion(cat,dog):\n",
    "    def animal3(self):\n",
    "        print('It is a lion')\n",
    "\n",
    "obj=lion()\n",
    "obj.animal1()\n",
    "obj.animal2()\n",
    "obj.animal3()"
   ]
  },
  {
   "cell_type": "code",
   "execution_count": 19,
   "id": "5c31dc18-8756-4935-a425-1043135f572f",
   "metadata": {},
   "outputs": [],
   "source": [
    "#Q4. What are getter and setter in python? Create a class and create a getter and a setter method in this\n",
    "#class."
   ]
  },
  {
   "cell_type": "code",
   "execution_count": 20,
   "id": "4dc0cc8e-3f5e-47d4-a31f-84910f6c0695",
   "metadata": {},
   "outputs": [],
   "source": [
    "#getter-Retrieves the value of the _radius attribute.\n",
    "#setter-Sets a new value for the _radius attribute, but only if the new value is greater than 0. Otherwise, it prints an error message."
   ]
  },
  {
   "cell_type": "code",
   "execution_count": 23,
   "id": "902b24c6-b79e-4b65-bfaa-7b988dca5aa7",
   "metadata": {},
   "outputs": [
    {
     "name": "stdout",
     "output_type": "stream",
     "text": [
      "Radius: 5\n",
      "New Radius: 8\n",
      "Radius must be greater than 0.\n"
     ]
    }
   ],
   "source": [
    "class Circle:\n",
    "    def __init__(self, radius):\n",
    "        self._radius = radius  # Convention: Prefixing with underscore to indicate it's a protected attribute\n",
    "\n",
    "    @property\n",
    "    def get_radius(self):\n",
    "        return self._radius\n",
    "\n",
    "    @get_radius.setter\n",
    "    def set_radius(self, new_radius):\n",
    "        if new_radius > 0:\n",
    "            self._radius = new_radius\n",
    "        else:\n",
    "            print(\"Radius must be greater than 0.\")\n",
    "\n",
    "# Example usage\n",
    "my_circle = Circle(5)\n",
    "\n",
    "# Using the getter\n",
    "print(\"Radius:\", my_circle.get_radius)\n",
    "\n",
    "# Using the setter\n",
    "my_circle.set_radius = 8\n",
    "print(\"New Radius:\", my_circle.get_radius)\n",
    "\n",
    "# Try setting an invalid radius\n",
    "my_circle.set_radius = -3  # This will print \"Radius must be greater than 0.\"\n"
   ]
  },
  {
   "cell_type": "code",
   "execution_count": 24,
   "id": "d8f774b8-3ef4-4c56-b4b9-bb77323ac566",
   "metadata": {},
   "outputs": [],
   "source": [
    "#Q5.What is method overriding in python? Write a python code to demonstrate method overriding."
   ]
  },
  {
   "cell_type": "code",
   "execution_count": 25,
   "id": "6fa06620-e6df-42d1-8bf3-97be10b54127",
   "metadata": {},
   "outputs": [],
   "source": [
    "#overriding-Method overriding in Python occurs when a subclass provides a specific implementation for a method that is already defined in its superclass. \n",
    "#           The overridden method in the subclass should have the same name and parameters as the method in the superclass."
   ]
  },
  {
   "cell_type": "code",
   "execution_count": 26,
   "id": "482a6a34-ff42-4069-8756-853882fa5b81",
   "metadata": {},
   "outputs": [
    {
     "name": "stdout",
     "output_type": "stream",
     "text": [
      "Animal speaks\n",
      "Dog barks\n",
      "Cat meows\n"
     ]
    }
   ],
   "source": [
    "class Animal:\n",
    "    def speak(self):\n",
    "        return \"Animal speaks\"\n",
    "\n",
    "class Dog(Animal):\n",
    "    # Overriding the speak method\n",
    "    def speak(self):\n",
    "        return \"Dog barks\"\n",
    "\n",
    "class Cat(Animal):\n",
    "    # Overriding the speak method\n",
    "    def speak(self):\n",
    "        return \"Cat meows\"\n",
    "\n",
    "# Example usage\n",
    "animal = Animal()\n",
    "dog = Dog()\n",
    "cat = Cat()\n",
    "\n",
    "print(animal.speak())  # Output: Animal speaks\n",
    "print(dog.speak())     # Output: Dog barks\n",
    "print(cat.speak())     # Output: Cat meows"
   ]
  },
  {
   "cell_type": "code",
   "execution_count": null,
   "id": "de1944c4-9f45-4738-88cc-08afd5e55f36",
   "metadata": {},
   "outputs": [],
   "source": []
  }
 ],
 "metadata": {
  "kernelspec": {
   "display_name": "Python 3 (ipykernel)",
   "language": "python",
   "name": "python3"
  },
  "language_info": {
   "codemirror_mode": {
    "name": "ipython",
    "version": 3
   },
   "file_extension": ".py",
   "mimetype": "text/x-python",
   "name": "python",
   "nbconvert_exporter": "python",
   "pygments_lexer": "ipython3",
   "version": "3.10.8"
  }
 },
 "nbformat": 4,
 "nbformat_minor": 5
}
