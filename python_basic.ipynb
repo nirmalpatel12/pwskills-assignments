{
 "cells": [
  {
   "cell_type": "code",
   "execution_count": 1,
   "id": "ca1b468f-7c32-4156-a63f-12f395a3d808",
   "metadata": {},
   "outputs": [],
   "source": [
    "#Q1. Create one variable containing following type of data:\n",
    "#(i) string\n",
    "#(ii) list\n",
    "#(iii) float\n",
    "#(iv) tuple"
   ]
  },
  {
   "cell_type": "code",
   "execution_count": 2,
   "id": "d3209bca-347e-463f-8998-1bf401950c8b",
   "metadata": {},
   "outputs": [
    {
     "name": "stdout",
     "output_type": "stream",
     "text": [
      "string variable-> nirmal\n",
      "list variable-> ['pwskills', 1, 2, 3, 'nirmal']\n",
      "float variable-> 10.111\n",
      "tuble variable-> ('data science', 'machine learning', 'deep learning', 'data analysis')\n"
     ]
    }
   ],
   "source": [
    "string1='nirmal'\n",
    "list1=['pwskills',1,2,3,'nirmal']\n",
    "float1=10.111\n",
    "tuple1=('data science','machine learning','deep learning','data analysis')\n",
    "print('string variable->',string1)\n",
    "print('list variable->',list1)\n",
    "print('float variable->',float1)\n",
    "print('tuble variable->',tuple1)"
   ]
  },
  {
   "cell_type": "code",
   "execution_count": 3,
   "id": "6ce4853a-0d38-4075-838e-c5bdc55bd786",
   "metadata": {},
   "outputs": [],
   "source": [
    "#Q2. Given are some following variables containing data:\n",
    "#(i) var1 = ‘ ‘\n",
    "#(ii) var2 = ‘[ DS , ML , Python]’\n",
    "#(iii) var3 = [ ‘DS’ , ’ML’ , ‘Python’ ]\n",
    "#(iv) var4 = 1."
   ]
  },
  {
   "cell_type": "code",
   "execution_count": 4,
   "id": "8b330292-3c97-4a50-9adf-7771e8ebb32c",
   "metadata": {},
   "outputs": [
    {
     "name": "stdout",
     "output_type": "stream",
     "text": [
      "type of var1-> <class 'str'>\n",
      "type of var2-> <class 'str'>\n",
      "type of var3-> <class 'list'>\n",
      "type of var4-> <class 'float'>\n"
     ]
    }
   ],
   "source": [
    "var1=''\n",
    "var2='[DS,ML,Python]'\n",
    "var3=['DS','ML','Python']\n",
    "var4=1.\n",
    "print('type of var1->',type(var1))\n",
    "print('type of var2->',type(var2))\n",
    "print('type of var3->',type(var3))\n",
    "print('type of var4->',type(var4))"
   ]
  },
  {
   "cell_type": "code",
   "execution_count": 5,
   "id": "a468c375-69a2-482f-9bd6-3e5833b78c4f",
   "metadata": {},
   "outputs": [],
   "source": [
    "#Q3. Explain the use of the following operators using an example:\n",
    "#(i) /\n",
    "#(ii) %\n",
    "#(iii) //\n",
    "#(iv) **"
   ]
  },
  {
   "cell_type": "code",
   "execution_count": 6,
   "id": "c64224d2-556e-49ab-9337-8df29edabbfa",
   "metadata": {},
   "outputs": [
    {
     "name": "stdout",
     "output_type": "stream",
     "text": [
      "/ is used for divison and it contains under arithmetic operator\n",
      "division of a/b is-> 2.0\n"
     ]
    }
   ],
   "source": [
    "print('/ is used for divison and it contains under arithmetic operator')\n",
    "a=20\n",
    "b=10\n",
    "print('division of a/b is->',a/b)"
   ]
  },
  {
   "cell_type": "code",
   "execution_count": 9,
   "id": "075ada6a-6cd2-4a4c-b528-913a8da94336",
   "metadata": {},
   "outputs": [
    {
     "name": "stdout",
     "output_type": "stream",
     "text": [
      "% is used for getting modulo of division\n",
      "modulo of a/b is-> 15\n"
     ]
    }
   ],
   "source": [
    "print('% is used for getting modulo of division')\n",
    "a=345\n",
    "b=22\n",
    "print('modulo of a/b is->',a%b)"
   ]
  },
  {
   "cell_type": "code",
   "execution_count": 10,
   "id": "963e7601-61bb-4af8-88b1-9e35051d7511",
   "metadata": {},
   "outputs": [
    {
     "name": "stdout",
     "output_type": "stream",
     "text": [
      "// is used to get integer value from float answer of division\n",
      "integer value of division-> 15\n"
     ]
    }
   ],
   "source": [
    "print('// is used to get integer value from float answer of division')\n",
    "a=345\n",
    "b=22\n",
    "print('integer value of division->',a//b)"
   ]
  },
  {
   "cell_type": "code",
   "execution_count": 11,
   "id": "7173b05f-f2eb-4433-b2fa-bc826dec3e2e",
   "metadata": {},
   "outputs": [
    {
     "name": "stdout",
     "output_type": "stream",
     "text": [
      "** is used for getting rest value\n",
      "square of 2 is-> 4\n",
      "quabe od 2 is-> 8\n"
     ]
    }
   ],
   "source": [
    "print('** is used for getting rest value')\n",
    "a=2**2\n",
    "b=2**3\n",
    "print('square of 2 is->',a)\n",
    "print('quabe od 2 is->',b)"
   ]
  },
  {
   "cell_type": "code",
   "execution_count": 12,
   "id": "06dd3a35-4ecc-4257-81b0-6dbe7974f170",
   "metadata": {},
   "outputs": [],
   "source": [
    "#Q4. Create a list of length 10 of your choice containing multiple types of data. Using for loop print the\n",
    "#element and its data type."
   ]
  },
  {
   "cell_type": "code",
   "execution_count": 14,
   "id": "7672fde5-d87d-4299-bfb1-e441feca0dc2",
   "metadata": {},
   "outputs": [
    {
     "name": "stdout",
     "output_type": "stream",
     "text": [
      "element of list is-> 1 and type of that element is-> <class 'str'>\n",
      "element of list is-> 2 and type of that element is-> <class 'int'>\n",
      "element of list is-> 3 and type of that element is-> <class 'int'>\n",
      "element of list is-> 4 and type of that element is-> <class 'int'>\n",
      "element of list is-> 5 and type of that element is-> <class 'int'>\n",
      "element of list is-> 6.5 and type of that element is-> <class 'float'>\n",
      "element of list is-> pwskills and type of that element is-> <class 'str'>\n",
      "element of list is-> data science and type of that element is-> <class 'str'>\n",
      "element of list is-> 9 and type of that element is-> <class 'int'>\n",
      "element of list is-> 10.0 and type of that element is-> <class 'float'>\n"
     ]
    }
   ],
   "source": [
    "list1=['1',2,3,4,5,6.5,'pwskills','data science',9,10.0]\n",
    "len(list1)\n",
    "for i in list1:\n",
    "    print('element of list is->',i,'and type of that element is->',type(i))"
   ]
  },
  {
   "cell_type": "code",
   "execution_count": 15,
   "id": "e1483db2-ae45-42e8-85d4-9527541218be",
   "metadata": {},
   "outputs": [],
   "source": [
    "#Q5. Using a while loop, verify if the number A is purely divisible by number B and if so then how many\n",
    "#times it can be divisible."
   ]
  },
  {
   "cell_type": "code",
   "execution_count": 4,
   "id": "d0fe5007-e6db-4f66-b96c-92a8367fcf7c",
   "metadata": {},
   "outputs": [
    {
     "name": "stdin",
     "output_type": "stream",
     "text": [
      "enter the value of a-> 8\n",
      "enter the value of b-> 2\n"
     ]
    },
    {
     "name": "stdout",
     "output_type": "stream",
     "text": [
      "a is purely divisable by b and is 3 times divisable by b\n"
     ]
    }
   ],
   "source": [
    "a=int(input('enter the value of a->'))\n",
    "b=int(input('enter the value of b->'))\n",
    "i=0\n",
    "while a%b==0:\n",
    "    a=a//b\n",
    "    i=i+1    \n",
    "if a==1:\n",
    "    print(f'a is purely divisable by b and is {i} times divisable by b')\n",
    "else:\n",
    "\n",
    "    print(f'a is not purely divisable by b')\n",
    "    "
   ]
  },
  {
   "cell_type": "code",
   "execution_count": 5,
   "id": "d07f1960-a523-44b6-856c-37bf3ac6cba2",
   "metadata": {},
   "outputs": [],
   "source": [
    "#Q6. Create a list containing 25 int type data. Using for loop and if-else condition print if the element is\n",
    "#divisible by 3 or not."
   ]
  },
  {
   "cell_type": "code",
   "execution_count": 10,
   "id": "981bbc5e-7be1-44cc-ab2e-007a54abe512",
   "metadata": {},
   "outputs": [
    {
     "name": "stdout",
     "output_type": "stream",
     "text": [
      "0 is divisable by 3\n",
      "1 is not divisable by 3\n",
      "2 is not divisable by 3\n",
      "3 is divisable by 3\n",
      "4 is not divisable by 3\n",
      "5 is not divisable by 3\n",
      "6 is divisable by 3\n",
      "7 is not divisable by 3\n",
      "8 is not divisable by 3\n",
      "9 is divisable by 3\n",
      "10 is not divisable by 3\n",
      "11 is not divisable by 3\n",
      "12 is divisable by 3\n",
      "13 is not divisable by 3\n",
      "14 is not divisable by 3\n",
      "15 is divisable by 3\n",
      "16 is not divisable by 3\n",
      "17 is not divisable by 3\n",
      "18 is divisable by 3\n",
      "19 is not divisable by 3\n",
      "20 is not divisable by 3\n",
      "21 is divisable by 3\n",
      "22 is not divisable by 3\n",
      "23 is not divisable by 3\n",
      "24 is divisable by 3\n"
     ]
    }
   ],
   "source": [
    "list1=list(range(25))\n",
    "list1\n",
    "for i in list1:\n",
    "    if i%3==0:\n",
    "        print(f'{i} is divisable by 3')\n",
    "    else:\n",
    "        print(f'{i} is not divisable by 3')"
   ]
  },
  {
   "cell_type": "code",
   "execution_count": 11,
   "id": "3faaa69d-8f7a-4bb1-815f-eab96dcff8b2",
   "metadata": {},
   "outputs": [],
   "source": [
    "#Q7. What do you understand about mutable and immutable data types? Give examples for both showing\n",
    "#this property."
   ]
  },
  {
   "cell_type": "code",
   "execution_count": 12,
   "id": "5b053108-e0d8-45be-a226-2544591e1c81",
   "metadata": {},
   "outputs": [
    {
     "name": "stdout",
     "output_type": "stream",
     "text": [
      "[1, 2, 3, 4, 5, 6, 7]\n",
      "modified list-> [1, 2, 3, 9, 5, 6, 7]\n"
     ]
    }
   ],
   "source": [
    "#mutable-if we are able to add element at any position in variable and modify as we want then it is known as mutable\n",
    "list=[1,2,3,4,5,6,7]\n",
    "print(list)\n",
    "list[3]=9\n",
    "print('modified list->',list)"
   ]
  },
  {
   "cell_type": "code",
   "execution_count": 14,
   "id": "83139d4e-ef4c-4f47-83bb-dc89d0c96407",
   "metadata": {},
   "outputs": [
    {
     "name": "stdout",
     "output_type": "stream",
     "text": [
      "(1, 2, 3, 4, 5, 6, 7)\n"
     ]
    }
   ],
   "source": [
    "#immutale-if we are not able to add element at any position in variable and we dont modify it as we want then it is known as immutable\n",
    "tuple=(1,2,3,4,5,6,7)\n",
    "print(tuple)\n"
   ]
  },
  {
   "cell_type": "code",
   "execution_count": null,
   "id": "5a3bbd21-c19a-4df2-9775-e498a3294d5c",
   "metadata": {},
   "outputs": [],
   "source": []
  },
  {
   "cell_type": "code",
   "execution_count": null,
   "id": "32bac670-5fc0-405e-b527-b8a23dd0dee4",
   "metadata": {},
   "outputs": [],
   "source": []
  }
 ],
 "metadata": {
  "kernelspec": {
   "display_name": "Python 3 (ipykernel)",
   "language": "python",
   "name": "python3"
  },
  "language_info": {
   "codemirror_mode": {
    "name": "ipython",
    "version": 3
   },
   "file_extension": ".py",
   "mimetype": "text/x-python",
   "name": "python",
   "nbconvert_exporter": "python",
   "pygments_lexer": "ipython3",
   "version": "3.10.8"
  }
 },
 "nbformat": 4,
 "nbformat_minor": 5
}
