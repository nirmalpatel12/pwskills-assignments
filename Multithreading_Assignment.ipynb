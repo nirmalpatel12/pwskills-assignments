{
 "cells": [
  {
   "cell_type": "code",
   "execution_count": 1,
   "id": "07babcb0-5806-4f20-82d5-8b741fbf1e80",
   "metadata": {},
   "outputs": [],
   "source": [
    "#Q1. what is multithreading in python? hy is it used? Name the module used to handle threads in python"
   ]
  },
  {
   "cell_type": "code",
   "execution_count": 2,
   "id": "2692a915-3da9-47b9-b54a-7396adbc51c9",
   "metadata": {},
   "outputs": [],
   "source": [
    "#Multithreading in Python refers to the concurrent execution of multiple threads within the same process. \n",
    "#A thread is a lightweight sub-process that shares the same resources (like memory) with other threads but \n",
    "#runs independently. Multithreading is used to achieve parallelism, allowing multiple tasks to be executed \n",
    "#concurrently, potentially improving the overall performance of a program."
   ]
  },
  {
   "cell_type": "code",
   "execution_count": 3,
   "id": "0cbc345c-dd77-445a-8df4-7f3fa7c91ab8",
   "metadata": {},
   "outputs": [
    {
     "name": "stdout",
     "output_type": "stream",
     "text": [
      "0A\n",
      "\n",
      "B\n",
      "1\n",
      "C\n",
      "2\n",
      "D\n",
      "3\n",
      "E\n",
      "4\n",
      "Both threads have finished.\n"
     ]
    }
   ],
   "source": [
    "import threading\n",
    "import time\n",
    "\n",
    "def print_numbers():\n",
    "    for i in range(5):\n",
    "        time.sleep(1)\n",
    "        print(i)\n",
    "\n",
    "def print_letters():\n",
    "    for letter in 'ABCDE':\n",
    "        time.sleep(1)\n",
    "        print(letter)\n",
    "\n",
    "# Create two threads\n",
    "thread1 = threading.Thread(target=print_numbers)\n",
    "thread2 = threading.Thread(target=print_letters)\n",
    "\n",
    "# Start the threads\n",
    "thread1.start()\n",
    "thread2.start()\n",
    "\n",
    "# Wait for both threads to finish\n",
    "thread1.join()\n",
    "thread2.join()\n",
    "\n",
    "print(\"Both threads have finished.\")"
   ]
  },
  {
   "cell_type": "code",
   "execution_count": 5,
   "id": "1136236e-5d91-4603-b3f1-b51dd365d707",
   "metadata": {},
   "outputs": [],
   "source": [
    "#Q2. why threading module used? rite the use of the following functions\n",
    "#1.activeCount\n",
    "#2.currentThread\n",
    "#3.enumerate"
   ]
  },
  {
   "cell_type": "code",
   "execution_count": 6,
   "id": "0f560070-f09e-4a67-b7f8-18c066dc49f5",
   "metadata": {},
   "outputs": [],
   "source": [
    "#activecount-It is used to get the number of Thread objects currently alive. "
   ]
  },
  {
   "cell_type": "code",
   "execution_count": 7,
   "id": "921f4906-235b-4479-aa88-c08e5152496f",
   "metadata": {},
   "outputs": [
    {
     "name": "stdout",
     "output_type": "stream",
     "text": [
      "Thread finished execution.\n",
      "Thread finished execution.\n",
      "Thread finished execution.\n",
      "Number of active threads: 8\n"
     ]
    },
    {
     "name": "stderr",
     "output_type": "stream",
     "text": [
      "/tmp/ipykernel_1069/3999624391.py:24: DeprecationWarning: activeCount() is deprecated, use active_count() instead\n",
      "  active_threads = threading.activeCount()\n"
     ]
    }
   ],
   "source": [
    "import threading\n",
    "import time\n",
    "\n",
    "def worker():\n",
    "    time.sleep(2)\n",
    "    print(\"Thread finished execution.\")\n",
    "\n",
    "# Create three threads\n",
    "thread1 = threading.Thread(target=worker)\n",
    "thread2 = threading.Thread(target=worker)\n",
    "thread3 = threading.Thread(target=worker)\n",
    "\n",
    "# Start the threads\n",
    "thread1.start()\n",
    "thread2.start()\n",
    "thread3.start()\n",
    "\n",
    "# Wait for all threads to finish\n",
    "thread1.join()\n",
    "thread2.join()\n",
    "thread3.join()\n",
    "\n",
    "# Get the number of active threads\n",
    "active_threads = threading.activeCount()\n",
    "print(f\"Number of active threads: {active_threads}\")"
   ]
  },
  {
   "cell_type": "code",
   "execution_count": 8,
   "id": "778cf7c9-712c-411a-af51-f348127234b6",
   "metadata": {},
   "outputs": [],
   "source": [
    "#currentthread-It is used to get the current Thread object."
   ]
  },
  {
   "cell_type": "code",
   "execution_count": 9,
   "id": "15c2ba8b-5d10-4962-b226-c6d9cf7f426c",
   "metadata": {},
   "outputs": [
    {
     "name": "stdout",
     "output_type": "stream",
     "text": [
      "Current thread: CustomThread\n"
     ]
    },
    {
     "name": "stderr",
     "output_type": "stream",
     "text": [
      "/tmp/ipykernel_1069/1752917956.py:4: DeprecationWarning: currentThread() is deprecated, use current_thread() instead\n",
      "  current_thread = threading.currentThread()\n"
     ]
    }
   ],
   "source": [
    "import threading\n",
    "\n",
    "def print_current_thread():\n",
    "    current_thread = threading.currentThread()\n",
    "    print(f\"Current thread: {current_thread.name}\")\n",
    "\n",
    "# Create a thread and start it\n",
    "my_thread = threading.Thread(target=print_current_thread, name=\"CustomThread\")\n",
    "my_thread.start()\n",
    "my_thread.join()"
   ]
  },
  {
   "cell_type": "code",
   "execution_count": null,
   "id": "0a08f5e0-5069-40a4-b445-3e79e7fb5003",
   "metadata": {},
   "outputs": [],
   "source": []
  },
  {
   "cell_type": "code",
   "execution_count": 10,
   "id": "5c2c6918-7bd9-475f-bbdd-b0b0e23219d8",
   "metadata": {},
   "outputs": [],
   "source": [
    "#enumerate-It is used to return a list of all Thread objects currently alive."
   ]
  },
  {
   "cell_type": "code",
   "execution_count": 11,
   "id": "c76b8fc8-a4b5-4ff5-be48-c1febfaa4f7c",
   "metadata": {},
   "outputs": [
    {
     "name": "stdout",
     "output_type": "stream",
     "text": [
      "Thread finished execution.\n",
      "Thread finished execution.\n",
      "Thread finished execution.\n",
      "All currently alive threads:\n",
      "MainThread\n",
      "IOPub\n",
      "Heartbeat\n",
      "Thread-3 (_watch_pipe_fd)\n",
      "Thread-4 (_watch_pipe_fd)\n",
      "Control\n",
      "IPythonHistorySavingThread\n",
      "Thread-2\n"
     ]
    }
   ],
   "source": [
    "import threading\n",
    "import time\n",
    "\n",
    "def worker():\n",
    "    time.sleep(2)\n",
    "    print(\"Thread finished execution.\")\n",
    "\n",
    "# Create three threads\n",
    "thread1 = threading.Thread(target=worker)\n",
    "thread2 = threading.Thread(target=worker)\n",
    "thread3 = threading.Thread(target=worker)\n",
    "\n",
    "# Start the threads\n",
    "thread1.start()\n",
    "thread2.start()\n",
    "thread3.start()\n",
    "\n",
    "# Wait for all threads to finish\n",
    "thread1.join()\n",
    "thread2.join()\n",
    "thread3.join()\n",
    "\n",
    "# Get a list of all currently alive threads\n",
    "all_threads = threading.enumerate()\n",
    "print(\"All currently alive threads:\")\n",
    "for t in all_threads:\n",
    "    print(t.name)"
   ]
  },
  {
   "cell_type": "code",
   "execution_count": 13,
   "id": "cc56d1c4-7762-417c-8738-05e44bcd64a0",
   "metadata": {},
   "outputs": [],
   "source": [
    "#Q3.Explain the following functions\n",
    "#1.run\n",
    "#2.start\n",
    "#3.join\n",
    "#4.isAlive"
   ]
  },
  {
   "cell_type": "code",
   "execution_count": 14,
   "id": "516e68d1-02cd-4e77-9be4-05e1189cb109",
   "metadata": {},
   "outputs": [],
   "source": [
    "#run() method is the entry point for the thread's activity."
   ]
  },
  {
   "cell_type": "code",
   "execution_count": 15,
   "id": "b7bcaa69-675c-42a6-8e02-c6d4c5502692",
   "metadata": {},
   "outputs": [
    {
     "name": "stdout",
     "output_type": "stream",
     "text": [
      "Thread Thread-13 is running.\n"
     ]
    }
   ],
   "source": [
    "import threading\n",
    "\n",
    "class MyThread(threading.Thread):\n",
    "    def run(self):\n",
    "        print(f\"Thread {self.name} is running.\")\n",
    "\n",
    "# Create and start a thread\n",
    "my_thread = MyThread()\n",
    "my_thread.start()"
   ]
  },
  {
   "cell_type": "code",
   "execution_count": 16,
   "id": "286a3e0f-e133-4a1d-b33c-61a8a1934dd9",
   "metadata": {},
   "outputs": [],
   "source": [
    "#start() method is used to start the thread's activity. "
   ]
  },
  {
   "cell_type": "code",
   "execution_count": 17,
   "id": "af06a085-0106-47ca-8491-ae7a7adcc23f",
   "metadata": {},
   "outputs": [
    {
     "name": "stdout",
     "output_type": "stream",
     "text": [
      "Thread finished execution.\n"
     ]
    }
   ],
   "source": [
    "import threading\n",
    "import time\n",
    "\n",
    "def worker():\n",
    "    time.sleep(2)\n",
    "    print(\"Thread finished execution.\")\n",
    "\n",
    "# Create and start a thread\n",
    "my_thread = threading.Thread(target=worker)\n",
    "my_thread.start()"
   ]
  },
  {
   "cell_type": "code",
   "execution_count": 18,
   "id": "4c9b4edc-0b05-4729-a873-cd045342e693",
   "metadata": {},
   "outputs": [],
   "source": [
    "#join() method is used to wait for the thread to complete its execution. "
   ]
  },
  {
   "cell_type": "code",
   "execution_count": 19,
   "id": "b61564b9-798b-4667-b3c7-48dbb2051c30",
   "metadata": {},
   "outputs": [
    {
     "name": "stdout",
     "output_type": "stream",
     "text": [
      "Thread finished execution.\n",
      "Main thread continues.\n"
     ]
    }
   ],
   "source": [
    "import threading\n",
    "import time\n",
    "\n",
    "def worker():\n",
    "    time.sleep(2)\n",
    "    print(\"Thread finished execution.\")\n",
    "\n",
    "# Create and start a thread\n",
    "my_thread = threading.Thread(target=worker)\n",
    "my_thread.start()\n",
    "\n",
    "# Wait for the thread to finish\n",
    "my_thread.join()\n",
    "print(\"Main thread continues.\")"
   ]
  },
  {
   "cell_type": "code",
   "execution_count": 20,
   "id": "093cbaff-e7a0-4c13-945d-ba8daf86d2ca",
   "metadata": {},
   "outputs": [],
   "source": [
    "#isAlive() method is used to check whether the thread is still alive. "
   ]
  },
  {
   "cell_type": "code",
   "execution_count": 21,
   "id": "b292d968-2f79-453f-8acd-c557e5b9346f",
   "metadata": {},
   "outputs": [
    {
     "ename": "AttributeError",
     "evalue": "'Thread' object has no attribute 'isAlive'",
     "output_type": "error",
     "traceback": [
      "\u001b[0;31m---------------------------------------------------------------------------\u001b[0m",
      "\u001b[0;31mAttributeError\u001b[0m                            Traceback (most recent call last)",
      "Cell \u001b[0;32mIn[21], line 13\u001b[0m\n\u001b[1;32m     10\u001b[0m my_thread\u001b[38;5;241m.\u001b[39mstart()\n\u001b[1;32m     12\u001b[0m \u001b[38;5;66;03m# Check if the thread is alive\u001b[39;00m\n\u001b[0;32m---> 13\u001b[0m \u001b[38;5;28mprint\u001b[39m(\u001b[38;5;124mf\u001b[39m\u001b[38;5;124m\"\u001b[39m\u001b[38;5;124mIs thread alive? \u001b[39m\u001b[38;5;132;01m{\u001b[39;00m\u001b[43mmy_thread\u001b[49m\u001b[38;5;241;43m.\u001b[39;49m\u001b[43misAlive\u001b[49m()\u001b[38;5;132;01m}\u001b[39;00m\u001b[38;5;124m\"\u001b[39m)\n",
      "\u001b[0;31mAttributeError\u001b[0m: 'Thread' object has no attribute 'isAlive'"
     ]
    },
    {
     "name": "stdout",
     "output_type": "stream",
     "text": [
      "Thread finished execution.\n"
     ]
    }
   ],
   "source": [
    "import threading\n",
    "import time\n",
    "\n",
    "def worker():\n",
    "    time.sleep(2)\n",
    "    print(\"Thread finished execution.\")\n",
    "\n",
    "# Create and start a thread\n",
    "my_thread = threading.Thread(target=worker)\n",
    "my_thread.start()\n",
    "\n",
    "# Check if the thread is alive\n",
    "print(f\"Is thread alive? {my_thread.isAlive()}\")"
   ]
  },
  {
   "cell_type": "code",
   "execution_count": 22,
   "id": "c51d8fd2-73b0-4f21-9688-46c9c18ba5b0",
   "metadata": {},
   "outputs": [],
   "source": [
    "#Q4. write a python program to create two threads. Thread one must print the list of squares and thread\n",
    "#two must print the list of cubes"
   ]
  },
  {
   "cell_type": "code",
   "execution_count": 23,
   "id": "3569c531-fd59-4529-9e8c-fea501ff655e",
   "metadata": {},
   "outputs": [
    {
     "name": "stdout",
     "output_type": "stream",
     "text": [
      "Square of 1: 1\n",
      "Square of 2: 4\n",
      "Square of 3: 9\n",
      "Square of 4: 16\n",
      "Square of 5: 25\n",
      "Cube of 1: 1\n",
      "Cube of 2: 8\n",
      "Cube of 3: 27\n",
      "Cube of 4: 64\n",
      "Cube of 5: 125\n",
      "Both threads have finished.\n"
     ]
    }
   ],
   "source": [
    "import threading\n",
    "\n",
    "def print_squares():\n",
    "    for i in range(1, 6):\n",
    "        print(f\"Square of {i}: {i ** 2}\")\n",
    "\n",
    "def print_cubes():\n",
    "    for i in range(1, 6):\n",
    "        print(f\"Cube of {i}: {i ** 3}\")\n",
    "\n",
    "# Create two threads\n",
    "thread1 = threading.Thread(target=print_squares)\n",
    "thread2 = threading.Thread(target=print_cubes)\n",
    "\n",
    "# Start the threads\n",
    "thread1.start()\n",
    "thread2.start()\n",
    "\n",
    "# Wait for both threads to finish\n",
    "thread1.join()\n",
    "thread2.join()\n",
    "\n",
    "print(\"Both threads have finished.\")"
   ]
  },
  {
   "cell_type": "code",
   "execution_count": 24,
   "id": "b10c14be-edbc-4797-9d60-8a32d79f365f",
   "metadata": {},
   "outputs": [],
   "source": [
    "#Q5. State advantages and disadvantages of multithreading"
   ]
  },
  {
   "cell_type": "code",
   "execution_count": 25,
   "id": "2ea8b892-c861-4e02-9699-d5c48b4c73e3",
   "metadata": {},
   "outputs": [],
   "source": [
    "#pros\n",
    "#1.Concurrency:\n",
    "#2.Parallelism:\n",
    "#3.Resource Sharing:\n",
    "#4.Improved Responsiveness:\n",
    "#5.Efficient Task Handling:"
   ]
  },
  {
   "cell_type": "code",
   "execution_count": 26,
   "id": "3f9ea018-2cbe-4dd1-a6a6-75587c7de16b",
   "metadata": {},
   "outputs": [],
   "source": [
    "#cons\n",
    "#1.Complexity and Difficulty in Debugging:\n",
    "#2.Synchronization Overhead:\n",
    "#3.Race Conditions:\n",
    "#4.Difficulty in Reproducibility:"
   ]
  },
  {
   "cell_type": "code",
   "execution_count": 27,
   "id": "2d00bc8a-9bd7-4f3a-8378-c604b859ea60",
   "metadata": {},
   "outputs": [],
   "source": [
    "#Q6. Explain deadlocks and race conditions."
   ]
  },
  {
   "cell_type": "code",
   "execution_count": 28,
   "id": "76d1c010-7d59-42b7-9f4b-88fdd5c42042",
   "metadata": {},
   "outputs": [
    {
     "data": {
      "text/plain": [
       "'deadlock-A deadlock is a situation in which two or more threads or processes are unable to proceed because each\\n            is waiting for the other to release a resource.'"
      ]
     },
     "execution_count": 28,
     "metadata": {},
     "output_type": "execute_result"
    }
   ],
   "source": [
    "'''deadlock-A deadlock is a situation in which two or more threads or processes are unable to proceed because each\n",
    "            is waiting for the other to release a resource.'''"
   ]
  },
  {
   "cell_type": "code",
   "execution_count": 29,
   "id": "d0156bee-1e8a-4379-b2cb-a3d22fcb7dac",
   "metadata": {},
   "outputs": [
    {
     "data": {
      "text/plain": [
       "'race condition-A race condition occurs when the behavior of a program depends on the relative timing of events,\\n                 such as the order of execution of operations on shared resources by multiple threads or processes.'"
      ]
     },
     "execution_count": 29,
     "metadata": {},
     "output_type": "execute_result"
    }
   ],
   "source": [
    "'''race condition-A race condition occurs when the behavior of a program depends on the relative timing of events,\n",
    "                 such as the order of execution of operations on shared resources by multiple threads or processes.'''"
   ]
  },
  {
   "cell_type": "code",
   "execution_count": null,
   "id": "679ba3d7-b0fd-43fc-86dd-27747865ed6d",
   "metadata": {},
   "outputs": [],
   "source": []
  }
 ],
 "metadata": {
  "kernelspec": {
   "display_name": "Python 3 (ipykernel)",
   "language": "python",
   "name": "python3"
  },
  "language_info": {
   "codemirror_mode": {
    "name": "ipython",
    "version": 3
   },
   "file_extension": ".py",
   "mimetype": "text/x-python",
   "name": "python",
   "nbconvert_exporter": "python",
   "pygments_lexer": "ipython3",
   "version": "3.10.8"
  }
 },
 "nbformat": 4,
 "nbformat_minor": 5
}
